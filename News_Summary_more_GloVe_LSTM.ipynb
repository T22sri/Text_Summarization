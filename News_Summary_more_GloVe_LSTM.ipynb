{
 "cells": [
  {
   "cell_type": "markdown",
   "metadata": {
    "id": "3YxUKinNXIBM"
   },
   "source": [
    "Final Project:\n",
    "Using 'news summary' dataset\n",
    "This encoder-decoder model worked on this dataset and the results are good."
   ]
  },
  {
   "cell_type": "code",
   "execution_count": null,
   "metadata": {
    "colab": {
     "base_uri": "https://localhost:8080/"
    },
    "executionInfo": {
     "elapsed": 208,
     "status": "ok",
     "timestamp": 1691462608768,
     "user": {
      "displayName": "Teja Aff",
      "userId": "12974856719468697541"
     },
     "user_tz": 240
    },
    "id": "-kxfYrZ1vfp-",
    "outputId": "3f9e62a1-57e8-4b88-9ce5-4af28e51152e"
   },
   "outputs": [
    {
     "name": "stderr",
     "output_type": "stream",
     "text": [
      "<ipython-input-56-2a92a600da02>:5: FutureWarning: Passing a negative integer is deprecated in version 1.0 and will not be supported in future version. Instead, use None to not limit the column width.\n",
      "  pd.set_option('display.max_colwidth', -1)\n"
     ]
    }
   ],
   "source": [
    "# import libraries\n",
    "import json\n",
    "import pandas as pd\n",
    "import numpy as np\n",
    "pd.set_option('display.max_colwidth', -1)"
   ]
  },
  {
   "cell_type": "code",
   "execution_count": null,
   "metadata": {
    "colab": {
     "base_uri": "https://localhost:8080/"
    },
    "executionInfo": {
     "elapsed": 1016,
     "status": "ok",
     "timestamp": 1691462610101,
     "user": {
      "displayName": "Teja Aff",
      "userId": "12974856719468697541"
     },
     "user_tz": 240
    },
    "id": "2hLNfc2Bvjaf",
    "outputId": "8681b4ef-a435-4bb4-9b3c-bb9e4600077c"
   },
   "outputs": [
    {
     "name": "stdout",
     "output_type": "stream",
     "text": [
      "Drive already mounted at /content/gdrive; to attempt to forcibly remount, call drive.mount(\"/content/gdrive\", force_remount=True).\n"
     ]
    }
   ],
   "source": [
    "from google.colab import drive\n",
    "drive.mount('/content/gdrive')"
   ]
  },
  {
   "cell_type": "code",
   "execution_count": null,
   "metadata": {
    "id": "F1wpxl-RI-JP"
   },
   "outputs": [],
   "source": [
    "# load the cleaned data\n",
    "\n",
    "data = pd.read_csv('/data/cleaned_data_news_summary_more.csv')"
   ]
  },
  {
   "cell_type": "markdown",
   "metadata": {
    "id": "CUPYC0JIU_qO"
   },
   "source": [
    "Add start and end tokens for summary(headlines)"
   ]
  },
  {
   "cell_type": "code",
   "execution_count": null,
   "metadata": {
    "colab": {
     "base_uri": "https://localhost:8080/"
    },
    "executionInfo": {
     "elapsed": 204,
     "status": "ok",
     "timestamp": 1691462611475,
     "user": {
      "displayName": "Teja Aff",
      "userId": "12974856719468697541"
     },
     "user_tz": 240
    },
    "id": "O6CcTLp4Jafb",
    "outputId": "2a5da54c-3c77-42c8-aaac-2df6671f55c5"
   },
   "outputs": [
    {
     "name": "stdout",
     "output_type": "stream",
     "text": [
      "Unnamed: 0.1     int64 \n",
      "Unnamed: 0       int64 \n",
      "summary          object\n",
      "text             object\n",
      "clean_summary    object\n",
      "clean_text       object\n",
      "dtype: object\n"
     ]
    }
   ],
   "source": [
    "data.columns\n",
    "print(data.dtypes)"
   ]
  },
  {
   "cell_type": "code",
   "execution_count": null,
   "metadata": {
    "id": "5W2TCCrYU-S7"
   },
   "outputs": [],
   "source": [
    "data.clean_summary = data.clean_summary.apply(lambda x: f'_START_ {x} _END_')"
   ]
  },
  {
   "cell_type": "markdown",
   "metadata": {
    "id": "jZddSqTHVc1-"
   },
   "source": [
    "Again add different tokens\n",
    "'sostok' and 'eostok' as start and end tokens respectively as later while using tensorflow's Tokenizer will filter the tokens and covert them to lowercase"
   ]
  },
  {
   "cell_type": "code",
   "execution_count": null,
   "metadata": {
    "id": "QjVSqMuqU-ab"
   },
   "outputs": [],
   "source": [
    "start_token = 'sostok'\n",
    "end_token = 'eostok'\n",
    "data.clean_summary = data.clean_summary.apply(lambda x: f'{start_token} {x} {end_token}')"
   ]
  },
  {
   "cell_type": "code",
   "execution_count": null,
   "metadata": {
    "colab": {
     "base_uri": "https://localhost:8080/",
     "height": 927
    },
    "executionInfo": {
     "elapsed": 242,
     "status": "ok",
     "timestamp": 1691462611710,
     "user": {
      "displayName": "Teja Aff",
      "userId": "12974856719468697541"
     },
     "user_tz": 240
    },
    "id": "99_HJi5UU-mE",
    "outputId": "d012fc10-1a2c-4c69-ddfa-d5fe9f46647f"
   },
   "outputs": [
    {
     "data": {
      "text/html": [
       "\n",
       "\n",
       "  <div id=\"df-511f1ad4-d1fe-4565-8b04-f57e4a3d8970\">\n",
       "    <div class=\"colab-df-container\">\n",
       "      <div>\n",
       "<style scoped>\n",
       "    .dataframe tbody tr th:only-of-type {\n",
       "        vertical-align: middle;\n",
       "    }\n",
       "\n",
       "    .dataframe tbody tr th {\n",
       "        vertical-align: top;\n",
       "    }\n",
       "\n",
       "    .dataframe thead th {\n",
       "        text-align: right;\n",
       "    }\n",
       "</style>\n",
       "<table border=\"1\" class=\"dataframe\">\n",
       "  <thead>\n",
       "    <tr style=\"text-align: right;\">\n",
       "      <th></th>\n",
       "      <th>Unnamed: 0.1</th>\n",
       "      <th>Unnamed: 0</th>\n",
       "      <th>summary</th>\n",
       "      <th>text</th>\n",
       "      <th>clean_summary</th>\n",
       "      <th>clean_text</th>\n",
       "    </tr>\n",
       "  </thead>\n",
       "  <tbody>\n",
       "    <tr>\n",
       "      <th>99810</th>\n",
       "      <td>99810</td>\n",
       "      <td>99810</td>\n",
       "      <td>SC orders protection for Kathua rape victims family, lawyer</td>\n",
       "      <td>The Suprtheme Court on Monday directed the J&amp;K government to provide police protection to the family of the eight-year-old Kathua rape and murder victim and their counsel Deepika S Rajawat. The counsel on Sunday alleged her life is in danger, adding she was being threatened after taking over the case. The trial against the eight accused began in Kathua today.</td>\n",
       "      <td>sostok _START_ sc orders protection kathua rape victims family lawyer _END_ eostok</td>\n",
       "      <td>suprtheme court monday directed jk government provide police protection family eightyearold kathua rape murder victim counsel deepika rajawat counsel sunday alleged life danger adding threatened taking case trial eight accused began kathua today</td>\n",
       "    </tr>\n",
       "    <tr>\n",
       "      <th>37725</th>\n",
       "      <td>37725</td>\n",
       "      <td>37725</td>\n",
       "      <td>Seaweed drifts 20,000 km to reach isolated Antarctica: Study</td>\n",
       "      <td>Researchers led by Australian National University have found the first proof that Antarctica is not isolated from the rest of the Earth, with the discovery of foreign seaweed that drifted 20,000 kilometres to reach there. Researchers suggested such biological rafts could be used by plants and animals to populate the icy continent as soon as the local environment becomes hospitable.</td>\n",
       "      <td>sostok _START_ seaweed drifts 20000 km reach isolated antarctica study _END_ eostok</td>\n",
       "      <td>researchers led australian national university found first proof antarctica isolated rest earth discovery foreign seaweed drifted 20000 kilometres reach there researchers suggested biological rafts could used plants animals populate icy continent soon local environment becomes hospitable</td>\n",
       "    </tr>\n",
       "    <tr>\n",
       "      <th>1654</th>\n",
       "      <td>1654</td>\n",
       "      <td>1654</td>\n",
       "      <td>Ã¢ÂÂ¹100 crore needed to make ATMs ready for new Ã¢ÂÂ¹100 notes: Operators</td>\n",
       "      <td>The ATM operations industry on Friday said an investment of Ã¢ÂÂ¹100 crore will be needed to recalibrate 2.4 lakh ATMs across the country to make ththem ready for dispensing new Ã¢ÂÂ¹100 notes. \"Over 12 months of time will be needed for recalibration,\" said Hitachi Payment Services Managing Director. RBI on Thursday announced it will issue new lavender-coloured Ã¢ÂÂ¹100 notes shortly.</td>\n",
       "      <td>sostok _START_ ã¢ââ¹100 crore needed make atms ready new ã¢ââ¹100 notes operators _END_ eostok</td>\n",
       "      <td>atm operations industry friday said investment ã¢ââ¹100 crore needed recalibrate 24 lakh atms across country make ththem ready dispensing new ã¢ââ¹100 notes over 12 months time needed recalibration said hitachi payment services managing director rbi thursday announced issue new lavendercoloured ã¢ââ¹100 notes shortly</td>\n",
       "    </tr>\n",
       "    <tr>\n",
       "      <th>41685</th>\n",
       "      <td>41685</td>\n",
       "      <td>41685</td>\n",
       "      <td>Ã¢ÂÂ¹65,400 s mattress to monitor sleeping pattern made</td>\n",
       "      <td>US-based developer Eight Team has designed a Ã¢ÂÂ¹65,400 s mattress which monitors users sleeping patterns and regulates bed tthemperature. The mattress contains sensors which are connected to an app called Eight available both on iOS and Android. Users can create their own account on the Eight app to track sleep and manage bed side features.</td>\n",
       "      <td>sostok _START_ ã¢ââ¹65400 mattress monitor sleeping pattern made _END_ eostok</td>\n",
       "      <td>usbased developer eight team designed ã¢ââ¹65400 mattress monitors users sleeping patterns regulates bed tthemperature mattress contains sensors connected app called eight available ios android users create account eight app track sleep manage bed side features</td>\n",
       "    </tr>\n",
       "    <tr>\n",
       "      <th>17603</th>\n",
       "      <td>17603</td>\n",
       "      <td>17603</td>\n",
       "      <td>Online quiz taken by Chris Pratt tells him he is Chris Evans</td>\n",
       "      <td>Guardians of the Galaxy actor Chris Pratt took an online quiz \"Are You Chris, Chris, Chris, or Chris\" and based on his answers, he was ared Captain America actor Chris Evans. Sharing a screenshot of the quiz results, Pratt wrote, \"Dude I suck at quizzes.\" Replying to his post, Evans jokingly tweeted, \"What do you mean? You aced it.\"</td>\n",
       "      <td>sostok _START_ online quiz taken chris pratt tells chris evans _END_ eostok</td>\n",
       "      <td>guardians galaxy actor chris pratt took online quiz are chris chris chris chris based answers ared captain america actor chris evans sharing screenshot quiz results pratt wrote dude suck quizzes replying post evans jokingly tweeted what mean aced it</td>\n",
       "    </tr>\n",
       "  </tbody>\n",
       "</table>\n",
       "</div>\n",
       "      <button class=\"colab-df-convert\" onclick=\"convertToInteractive('df-511f1ad4-d1fe-4565-8b04-f57e4a3d8970')\"\n",
       "              title=\"Convert this dataframe to an interactive table.\"\n",
       "              style=\"display:none;\">\n",
       "\n",
       "  <svg xmlns=\"http://www.w3.org/2000/svg\" height=\"24px\"viewBox=\"0 0 24 24\"\n",
       "       width=\"24px\">\n",
       "    <path d=\"M0 0h24v24H0V0z\" fill=\"none\"/>\n",
       "    <path d=\"M18.56 5.44l.94 2.06.94-2.06 2.06-.94-2.06-.94-.94-2.06-.94 2.06-2.06.94zm-11 1L8.5 8.5l.94-2.06 2.06-.94-2.06-.94L8.5 2.5l-.94 2.06-2.06.94zm10 10l.94 2.06.94-2.06 2.06-.94-2.06-.94-.94-2.06-.94 2.06-2.06.94z\"/><path d=\"M17.41 7.96l-1.37-1.37c-.4-.4-.92-.59-1.43-.59-.52 0-1.04.2-1.43.59L10.3 9.45l-7.72 7.72c-.78.78-.78 2.05 0 2.83L4 21.41c.39.39.9.59 1.41.59.51 0 1.02-.2 1.41-.59l7.78-7.78 2.81-2.81c.8-.78.8-2.07 0-2.86zM5.41 20L4 18.59l7.72-7.72 1.47 1.35L5.41 20z\"/>\n",
       "  </svg>\n",
       "      </button>\n",
       "\n",
       "\n",
       "\n",
       "    <div id=\"df-96bf333c-d69e-40ef-82d3-ddc132f0c0db\">\n",
       "      <button class=\"colab-df-quickchart\" onclick=\"quickchart('df-96bf333c-d69e-40ef-82d3-ddc132f0c0db')\"\n",
       "              title=\"Suggest charts.\"\n",
       "              style=\"display:none;\">\n",
       "\n",
       "<svg xmlns=\"http://www.w3.org/2000/svg\" height=\"24px\"viewBox=\"0 0 24 24\"\n",
       "     width=\"24px\">\n",
       "    <g>\n",
       "        <path d=\"M19 3H5c-1.1 0-2 .9-2 2v14c0 1.1.9 2 2 2h14c1.1 0 2-.9 2-2V5c0-1.1-.9-2-2-2zM9 17H7v-7h2v7zm4 0h-2V7h2v10zm4 0h-2v-4h2v4z\"/>\n",
       "    </g>\n",
       "</svg>\n",
       "      </button>\n",
       "    </div>\n",
       "\n",
       "<style>\n",
       "  .colab-df-quickchart {\n",
       "    background-color: #E8F0FE;\n",
       "    border: none;\n",
       "    border-radius: 50%;\n",
       "    cursor: pointer;\n",
       "    display: none;\n",
       "    fill: #1967D2;\n",
       "    height: 32px;\n",
       "    padding: 0 0 0 0;\n",
       "    width: 32px;\n",
       "  }\n",
       "\n",
       "  .colab-df-quickchart:hover {\n",
       "    background-color: #E2EBFA;\n",
       "    box-shadow: 0px 1px 2px rgba(60, 64, 67, 0.3), 0px 1px 3px 1px rgba(60, 64, 67, 0.15);\n",
       "    fill: #174EA6;\n",
       "  }\n",
       "\n",
       "  [theme=dark] .colab-df-quickchart {\n",
       "    background-color: #3B4455;\n",
       "    fill: #D2E3FC;\n",
       "  }\n",
       "\n",
       "  [theme=dark] .colab-df-quickchart:hover {\n",
       "    background-color: #434B5C;\n",
       "    box-shadow: 0px 1px 3px 1px rgba(0, 0, 0, 0.15);\n",
       "    filter: drop-shadow(0px 1px 2px rgba(0, 0, 0, 0.3));\n",
       "    fill: #FFFFFF;\n",
       "  }\n",
       "</style>\n",
       "\n",
       "    <script>\n",
       "      async function quickchart(key) {\n",
       "        const containerElement = document.querySelector('#' + key);\n",
       "        const charts = await google.colab.kernel.invokeFunction(\n",
       "            'suggestCharts', [key], {});\n",
       "      }\n",
       "    </script>\n",
       "\n",
       "      <script>\n",
       "\n",
       "function displayQuickchartButton(domScope) {\n",
       "  let quickchartButtonEl =\n",
       "    domScope.querySelector('#df-96bf333c-d69e-40ef-82d3-ddc132f0c0db button.colab-df-quickchart');\n",
       "  quickchartButtonEl.style.display =\n",
       "    google.colab.kernel.accessAllowed ? 'block' : 'none';\n",
       "}\n",
       "\n",
       "        displayQuickchartButton(document);\n",
       "      </script>\n",
       "      <style>\n",
       "    .colab-df-container {\n",
       "      display:flex;\n",
       "      flex-wrap:wrap;\n",
       "      gap: 12px;\n",
       "    }\n",
       "\n",
       "    .colab-df-convert {\n",
       "      background-color: #E8F0FE;\n",
       "      border: none;\n",
       "      border-radius: 50%;\n",
       "      cursor: pointer;\n",
       "      display: none;\n",
       "      fill: #1967D2;\n",
       "      height: 32px;\n",
       "      padding: 0 0 0 0;\n",
       "      width: 32px;\n",
       "    }\n",
       "\n",
       "    .colab-df-convert:hover {\n",
       "      background-color: #E2EBFA;\n",
       "      box-shadow: 0px 1px 2px rgba(60, 64, 67, 0.3), 0px 1px 3px 1px rgba(60, 64, 67, 0.15);\n",
       "      fill: #174EA6;\n",
       "    }\n",
       "\n",
       "    [theme=dark] .colab-df-convert {\n",
       "      background-color: #3B4455;\n",
       "      fill: #D2E3FC;\n",
       "    }\n",
       "\n",
       "    [theme=dark] .colab-df-convert:hover {\n",
       "      background-color: #434B5C;\n",
       "      box-shadow: 0px 1px 3px 1px rgba(0, 0, 0, 0.15);\n",
       "      filter: drop-shadow(0px 1px 2px rgba(0, 0, 0, 0.3));\n",
       "      fill: #FFFFFF;\n",
       "    }\n",
       "  </style>\n",
       "\n",
       "      <script>\n",
       "        const buttonEl =\n",
       "          document.querySelector('#df-511f1ad4-d1fe-4565-8b04-f57e4a3d8970 button.colab-df-convert');\n",
       "        buttonEl.style.display =\n",
       "          google.colab.kernel.accessAllowed ? 'block' : 'none';\n",
       "\n",
       "        async function convertToInteractive(key) {\n",
       "          const element = document.querySelector('#df-511f1ad4-d1fe-4565-8b04-f57e4a3d8970');\n",
       "          const dataTable =\n",
       "            await google.colab.kernel.invokeFunction('convertToInteractive',\n",
       "                                                     [key], {});\n",
       "          if (!dataTable) return;\n",
       "\n",
       "          const docLinkHtml = 'Like what you see? Visit the ' +\n",
       "            '<a target=\"_blank\" href=https://colab.research.google.com/notebooks/data_table.ipynb>data table notebook</a>'\n",
       "            + ' to learn more about interactive tables.';\n",
       "          element.innerHTML = '';\n",
       "          dataTable['output_type'] = 'display_data';\n",
       "          await google.colab.output.renderOutput(dataTable, element);\n",
       "          const docLink = document.createElement('div');\n",
       "          docLink.innerHTML = docLinkHtml;\n",
       "          element.appendChild(docLink);\n",
       "        }\n",
       "      </script>\n",
       "    </div>\n",
       "  </div>\n"
      ],
      "text/plain": [
       "       Unnamed: 0.1  Unnamed: 0  \\\n",
       "99810  99810         99810        \n",
       "37725  37725         37725        \n",
       "1654   1654          1654         \n",
       "41685  41685         41685        \n",
       "17603  17603         17603        \n",
       "\n",
       "                                                                            summary  \\\n",
       "99810  SC orders protection for Kathua rape victims family, lawyer                    \n",
       "37725  Seaweed drifts 20,000 km to reach isolated Antarctica: Study                   \n",
       "1654   Ã¢ÂÂ¹100 crore needed to make ATMs ready for new Ã¢ÂÂ¹100 notes: Operators   \n",
       "41685  Ã¢ÂÂ¹65,400 s mattress to monitor sleeping pattern made                       \n",
       "17603  Online quiz taken by Chris Pratt tells him he is Chris Evans                   \n",
       "\n",
       "                                                                                                                                                                                                                                                                                                                                                                                                         text  \\\n",
       "99810  The Suprtheme Court on Monday directed the J&K government to provide police protection to the family of the eight-year-old Kathua rape and murder victim and their counsel Deepika S Rajawat. The counsel on Sunday alleged her life is in danger, adding she was being threatened after taking over the case. The trial against the eight accused began in Kathua today.                                \n",
       "37725  Researchers led by Australian National University have found the first proof that Antarctica is not isolated from the rest of the Earth, with the discovery of foreign seaweed that drifted 20,000 kilometres to reach there. Researchers suggested such biological rafts could be used by plants and animals to populate the icy continent as soon as the local environment becomes hospitable.         \n",
       "1654   The ATM operations industry on Friday said an investment of Ã¢ÂÂ¹100 crore will be needed to recalibrate 2.4 lakh ATMs across the country to make ththem ready for dispensing new Ã¢ÂÂ¹100 notes. \"Over 12 months of time will be needed for recalibration,\" said Hitachi Payment Services Managing Director. RBI on Thursday announced it will issue new lavender-coloured Ã¢ÂÂ¹100 notes shortly.   \n",
       "41685  US-based developer Eight Team has designed a Ã¢ÂÂ¹65,400 s mattress which monitors users sleeping patterns and regulates bed tthemperature. The mattress contains sensors which are connected to an app called Eight available both on iOS and Android. Users can create their own account on the Eight app to track sleep and manage bed side features.                                                \n",
       "17603  Guardians of the Galaxy actor Chris Pratt took an online quiz \"Are You Chris, Chris, Chris, or Chris\" and based on his answers, he was ared Captain America actor Chris Evans. Sharing a screenshot of the quiz results, Pratt wrote, \"Dude I suck at quizzes.\" Replying to his post, Evans jokingly tweeted, \"What do you mean? You aced it.\"                                                           \n",
       "\n",
       "                                                                                          clean_summary  \\\n",
       "99810  sostok _START_ sc orders protection kathua rape victims family lawyer _END_ eostok                 \n",
       "37725  sostok _START_ seaweed drifts 20000 km reach isolated antarctica study _END_ eostok                \n",
       "1654   sostok _START_ ã¢ââ¹100 crore needed make atms ready new ã¢ââ¹100 notes operators _END_ eostok   \n",
       "41685  sostok _START_ ã¢ââ¹65400 mattress monitor sleeping pattern made _END_ eostok                     \n",
       "17603  sostok _START_ online quiz taken chris pratt tells chris evans _END_ eostok                        \n",
       "\n",
       "                                                                                                                                                                                                                                                                                                                              clean_text  \n",
       "99810  suprtheme court monday directed jk government provide police protection family eightyearold kathua rape murder victim counsel deepika rajawat counsel sunday alleged life danger adding threatened taking case trial eight accused began kathua today                                                                              \n",
       "37725  researchers led australian national university found first proof antarctica isolated rest earth discovery foreign seaweed drifted 20000 kilometres reach there researchers suggested biological rafts could used plants animals populate icy continent soon local environment becomes hospitable                                   \n",
       "1654   atm operations industry friday said investment ã¢ââ¹100 crore needed recalibrate 24 lakh atms across country make ththem ready dispensing new ã¢ââ¹100 notes over 12 months time needed recalibration said hitachi payment services managing director rbi thursday announced issue new lavendercoloured ã¢ââ¹100 notes shortly  \n",
       "41685  usbased developer eight team designed ã¢ââ¹65400 mattress monitors users sleeping patterns regulates bed tthemperature mattress contains sensors connected app called eight available ios android users create account eight app track sleep manage bed side features                                                             \n",
       "17603  guardians galaxy actor chris pratt took online quiz are chris chris chris chris based answers ared captain america actor chris evans sharing screenshot quiz results pratt wrote dude suck quizzes replying post evans jokingly tweeted what mean aced it                                                                          "
      ]
     },
     "execution_count": 62,
     "metadata": {},
     "output_type": "execute_result"
    }
   ],
   "source": [
    "data.sample(5)"
   ]
  },
  {
   "cell_type": "code",
   "execution_count": null,
   "metadata": {
    "colab": {
     "base_uri": "https://localhost:8080/"
    },
    "executionInfo": {
     "elapsed": 15,
     "status": "ok",
     "timestamp": 1691462611711,
     "user": {
      "displayName": "Teja Aff",
      "userId": "12974856719468697541"
     },
     "user_tz": 240
    },
    "id": "2uMtz2vAU-rx",
    "outputId": "86d954cd-64ed-47d7-805b-2d9b1660f6c5"
   },
   "outputs": [
    {
     "data": {
      "text/plain": [
       "0         gujarat court friday rejected bail application filed former ips officer sanjiv bhatt behind bars since septthember connection 22yearold drug seizure case led bhatt gujarats banaskantha police arrested man charges possessing drugs although investigation rajasthan police revealed allegedly falsely implicated ththem\n",
       "1         suprtheme court monday dismissed pil seeking indus waters treaty india pakistan illegal unconstitutional litigant argued indus pact treaty signed name president india prime minister jawaharlal nehru                                                                                                                    \n",
       "2         telugu desam party tdp mp jayadev galla suggested lok sabha big currency notes expiry date dthemonetisation time time galla added ã¢ââ¹200 notes introduced ã¢ââ¹2000 notes withdrawn galla also suggested order motivate taxpayers facilities provided ththem                                                          \n",
       "3         reliance industries chairman mukesh ambani become asias richest person wealth 421 billion according forbes puts ahead chinese real estate giant evergrande groups chairman hui ka yan net worth 406 billion comes reliance industries became first indian company cross ã¢ââ¹6 lakh crore et capitalisation              \n",
       "4         income tax department clarified permanent account number pan cards linked aadhaar july 1 become invalid said although linking two would become mandatory july 1 last date link announced later however aadhaar number required get new pan card                                                                           \n",
       "                                                                                                                               ...                                                                                                                                                                                                  \n",
       "102910    hyundai come decthember delight offering benefits ã¢ââ¹80000p  rs90000d grandi10 ã¢ââ¹65000 eon ã¢ââ¹60000 new xcent ã¢ââ¹55000 elitei20  i20 active also offering special exchange offer elantra  tucson ã¢ââ¹70000pd moreover also offering 100 road finance                                                       \n",
       "102911    russia funded substantial investments twitter facebook business associate us president donald trumps soninlaw jared kushner paradise papers revealed revelations come time us congress investigating social media giants role spread russian misinformation trumps presidential campaign                                  \n",
       "102912    us president donald trumps personal charity trump foundation would dissolved amid allegations three eldest children misused funds new york attorney general filed lawsuit foundation alleging trump used funds presidential campaign settle lawsuits among others rthemaining assets would redistributed charities        \n",
       "102913    gautam gambhir recently announced retirthement said sad selected 2015 world cup when someone plays key role helping team earn title given opportunity defend too added some players played got opportunity play 23 world cups said                                                                                        \n",
       "102914    urging public vote legalisation samesex iage countrys upcoming iage equality postal survey former australian pm tony abbott said real issue religious freedom samesex iage legalised legalisation would amount officially sanctioned degendering iage would lead gender fluidity programmes abbott added                  \n",
       "Name: clean_text, Length: 102915, dtype: object"
      ]
     },
     "execution_count": 63,
     "metadata": {},
     "output_type": "execute_result"
    }
   ],
   "source": [
    "data['clean_text'] #.astype(str)"
   ]
  },
  {
   "cell_type": "markdown",
   "metadata": {
    "id": "9onvmpxg9ZFI"
   },
   "source": [
    "Step 3: Determine max sequence length"
   ]
  },
  {
   "cell_type": "code",
   "execution_count": null,
   "metadata": {
    "id": "GxxuwBRtYSYt"
   },
   "outputs": [],
   "source": [
    "import seaborn as sns\n",
    "import matplotlib.pyplot as plt"
   ]
  },
  {
   "cell_type": "code",
   "execution_count": null,
   "metadata": {
    "colab": {
     "base_uri": "https://localhost:8080/",
     "height": 391
    },
    "executionInfo": {
     "elapsed": 1544,
     "status": "ok",
     "timestamp": 1691462613247,
     "user": {
      "displayName": "Teja Aff",
      "userId": "12974856719468697541"
     },
     "user_tz": 240
    },
    "id": "C5Lmx_xZXy9m",
    "outputId": "626f10e8-bace-452b-cee1-d27da2e2cc73"
   },
   "outputs": [
    {
     "data": {
      "image/png": "[encoded data removed]",
      "text/plain": [
       "<Figure size 1000x400 with 2 Axes>"
      ]
     },
     "metadata": {},
     "output_type": "display_data"
    }
   ],
   "source": [
    "text_count = [len(sentence.split()) for sentence in data.clean_text]\n",
    "summary_count = [len(sentence.split()) for sentence in data.clean_summary]\n",
    "\n",
    "pd.DataFrame({'text': text_count, 'summary': summary_count}).hist(bins=100, figsize=(10, 4), range=[0, 50])\n",
    "#pd.DataFrame({'summary': summary_count}).hist(bins=100, figsize=(10, 4), range=[0, 30])\n",
    "plt.show()"
   ]
  },
  {
   "cell_type": "markdown",
   "metadata": {
    "id": "WCqcqm0i_v-u"
   },
   "source": [
    "From the graphs, you can determine the range where the maximum number of words fall into. For title, you can assign the range to be 0-20."
   ]
  },
  {
   "cell_type": "code",
   "execution_count": null,
   "metadata": {
    "colab": {
     "base_uri": "https://localhost:8080/"
    },
    "executionInfo": {
     "elapsed": 615,
     "status": "ok",
     "timestamp": 1691462613858,
     "user": {
      "displayName": "Teja Aff",
      "userId": "12974856719468697541"
     },
     "user_tz": 240
    },
    "id": "lP08HtpLZgjK",
    "outputId": "af5230f6-b113-44be-ddf6-7dab7c1d49ee"
   },
   "outputs": [
    {
     "name": "stdout",
     "output_type": "stream",
     "text": [
      "0.97\n",
      "0.98\n"
     ]
    }
   ],
   "source": [
    "# To check how many % in a columns has length (of the text) <= limit\n",
    "def get_word_percent(column, limit):\n",
    "    count = 0\n",
    "    for sentence in column:\n",
    "        if len(sentence.split()) <= limit:\n",
    "            count += 1\n",
    "\n",
    "    return round(count / len(column), 2)\n",
    "\n",
    "# Check how many % of summary(headlines) have 0-13 words\n",
    "print(get_word_percent(data.clean_summary, 13))\n",
    "\n",
    "# Check how many % of text have 0-43 words\n",
    "print(get_word_percent(data.clean_text, 43))"
   ]
  },
  {
   "cell_type": "markdown",
   "metadata": {
    "id": "OfFc5wFe_opl"
   },
   "source": [
    "We can observe, 97% of the content pieces fall into the 0-42 category."
   ]
  },
  {
   "cell_type": "markdown",
   "metadata": {
    "id": "erQH3sON__yt"
   },
   "source": [
    "Initialize the maximum permissible lengths of both title and content"
   ]
  },
  {
   "cell_type": "code",
   "execution_count": null,
   "metadata": {
    "id": "lnPau_rcAahF"
   },
   "outputs": [],
   "source": [
    "# Model to summarize the text between 0-15 words for Summary and 0-50 words for Text\n",
    "max_summary_len = 13\n",
    "max_text_len = 43"
   ]
  },
  {
   "cell_type": "markdown",
   "metadata": {
    "id": "VPTi08HGCCpw"
   },
   "source": [
    "4. Select summary(headline) and text(content) which are between these max length mentioned above"
   ]
  },
  {
   "cell_type": "code",
   "execution_count": null,
   "metadata": {
    "id": "hZFyVio6cE9b"
   },
   "outputs": [],
   "source": [
    "# select the summary and text between their defined max lens respectively\n",
    "def trim_text_and_summary(data, max_text_len, max_summary_len):\n",
    "    cleaned_text = np.array(data['clean_text'])\n",
    "    cleaned_summary = np.array(data['clean_summary'])\n",
    "\n",
    "    short_text = []\n",
    "    short_summary = []\n",
    "\n",
    "    for i in range(len(cleaned_text)):\n",
    "        if len(cleaned_text[i].split()) <= max_text_len and len(\n",
    "            cleaned_summary[i].split()\n",
    "        ) <= max_summary_len:\n",
    "            short_text.append(cleaned_text[i])\n",
    "            short_summary.append(cleaned_summary[i])\n",
    "\n",
    "    data = pd.DataFrame({'text': short_text, 'summary': short_summary})\n",
    "    return data"
   ]
  },
  {
   "cell_type": "code",
   "execution_count": null,
   "metadata": {
    "colab": {
     "base_uri": "https://localhost:8080/",
     "height": 423
    },
    "executionInfo": {
     "elapsed": 771,
     "status": "ok",
     "timestamp": 1691462614624,
     "user": {
      "displayName": "Teja Aff",
      "userId": "12974856719468697541"
     },
     "user_tz": 240
    },
    "id": "ee1QUKVkcVl4",
    "outputId": "255c38cc-4f20-4378-c0f1-ed0e0b544887"
   },
   "outputs": [
    {
     "name": "stdout",
     "output_type": "stream",
     "text": [
      "Dataset size: 97527\n"
     ]
    },
    {
     "data": {
      "text/html": [
       "\n",
       "\n",
       "  <div id=\"df-044e0853-ac1d-4d60-a7e9-f3893e27bbe2\">\n",
       "    <div class=\"colab-df-container\">\n",
       "      <div>\n",
       "<style scoped>\n",
       "    .dataframe tbody tr th:only-of-type {\n",
       "        vertical-align: middle;\n",
       "    }\n",
       "\n",
       "    .dataframe tbody tr th {\n",
       "        vertical-align: top;\n",
       "    }\n",
       "\n",
       "    .dataframe thead th {\n",
       "        text-align: right;\n",
       "    }\n",
       "</style>\n",
       "<table border=\"1\" class=\"dataframe\">\n",
       "  <thead>\n",
       "    <tr style=\"text-align: right;\">\n",
       "      <th></th>\n",
       "      <th>text</th>\n",
       "      <th>summary</th>\n",
       "    </tr>\n",
       "  </thead>\n",
       "  <tbody>\n",
       "    <tr>\n",
       "      <th>58733</th>\n",
       "      <td>selfstyled godman daati maharaj said 25yearold woman follower accused rape dter put allegations her even hanged put allegations her done anything wrong legal authorities look that added</td>\n",
       "      <td>sostok _START_ girl dter godman rape charge _END_ eostok</td>\n",
       "    </tr>\n",
       "    <tr>\n",
       "      <th>35236</th>\n",
       "      <td>10minute helicopter ride service cost ã¢ââ¹2900 launched sunday visitors statue unity worlds tallest statue situated gujarats kevadia statue unity inrated prime minister narendra modi october 31 gujarat government built statue cost around ã¢ââ¹3000 crore 33 months</td>\n",
       "      <td>sostok _START_ helicopter service launched statue unity ã¢ââ¹2900 _END_ eostok</td>\n",
       "    </tr>\n",
       "    <tr>\n",
       "      <th>7909</th>\n",
       "      <td>retiring england opener alastair cook got 33rd test hundred five overthrows said overthrow india pacer jasprit bumrah saved lot heartache cook cut ravindra jadeja delivery get 97 bumrah threw ball hard stumps resulting four overthrows i thank bumrah while cook added</td>\n",
       "      <td>sostok _START_ bumrahs overthrow saved lot heartache alastair cook _END_ eostok</td>\n",
       "    </tr>\n",
       "    <tr>\n",
       "      <th>79285</th>\n",
       "      <td>according delhi high court ruling event organisers pay royalty using copyrighted songs inform three copyright societies including indian performing right society phonographic performance ltd copyrighted work used one shall issue invoice royalty copyright</td>\n",
       "      <td>sostok _START_ event organisers pay royalty use copyrighted songs _END_ eostok</td>\n",
       "    </tr>\n",
       "    <tr>\n",
       "      <th>11827</th>\n",
       "      <td>former finance minister p chidambaram said current gst imperfect a mockery delayed two months the aim one indirect tax subsume indirect taxes gst fails achieve that said added congress press reduction rates 18 cap</td>\n",
       "      <td>sostok _START_ current gst mockery imperfect former finance minister _END_ eostok</td>\n",
       "    </tr>\n",
       "  </tbody>\n",
       "</table>\n",
       "</div>\n",
       "      <button class=\"colab-df-convert\" onclick=\"convertToInteractive('df-044e0853-ac1d-4d60-a7e9-f3893e27bbe2')\"\n",
       "              title=\"Convert this dataframe to an interactive table.\"\n",
       "              style=\"display:none;\">\n",
       "\n",
       "  <svg xmlns=\"http://www.w3.org/2000/svg\" height=\"24px\"viewBox=\"0 0 24 24\"\n",
       "       width=\"24px\">\n",
       "    <path d=\"M0 0h24v24H0V0z\" fill=\"none\"/>\n",
       "    <path d=\"M18.56 5.44l.94 2.06.94-2.06 2.06-.94-2.06-.94-.94-2.06-.94 2.06-2.06.94zm-11 1L8.5 8.5l.94-2.06 2.06-.94-2.06-.94L8.5 2.5l-.94 2.06-2.06.94zm10 10l.94 2.06.94-2.06 2.06-.94-2.06-.94-.94-2.06-.94 2.06-2.06.94z\"/><path d=\"M17.41 7.96l-1.37-1.37c-.4-.4-.92-.59-1.43-.59-.52 0-1.04.2-1.43.59L10.3 9.45l-7.72 7.72c-.78.78-.78 2.05 0 2.83L4 21.41c.39.39.9.59 1.41.59.51 0 1.02-.2 1.41-.59l7.78-7.78 2.81-2.81c.8-.78.8-2.07 0-2.86zM5.41 20L4 18.59l7.72-7.72 1.47 1.35L5.41 20z\"/>\n",
       "  </svg>\n",
       "      </button>\n",
       "\n",
       "\n",
       "\n",
       "    <div id=\"df-7c6254e2-96dd-401c-9b6b-fda3eea94d8e\">\n",
       "      <button class=\"colab-df-quickchart\" onclick=\"quickchart('df-7c6254e2-96dd-401c-9b6b-fda3eea94d8e')\"\n",
       "              title=\"Suggest charts.\"\n",
       "              style=\"display:none;\">\n",
       "\n",
       "<svg xmlns=\"http://www.w3.org/2000/svg\" height=\"24px\"viewBox=\"0 0 24 24\"\n",
       "     width=\"24px\">\n",
       "    <g>\n",
       "        <path d=\"M19 3H5c-1.1 0-2 .9-2 2v14c0 1.1.9 2 2 2h14c1.1 0 2-.9 2-2V5c0-1.1-.9-2-2-2zM9 17H7v-7h2v7zm4 0h-2V7h2v10zm4 0h-2v-4h2v4z\"/>\n",
       "    </g>\n",
       "</svg>\n",
       "      </button>\n",
       "    </div>\n",
       "\n",
       "<style>\n",
       "  .colab-df-quickchart {\n",
       "    background-color: #E8F0FE;\n",
       "    border: none;\n",
       "    border-radius: 50%;\n",
       "    cursor: pointer;\n",
       "    display: none;\n",
       "    fill: #1967D2;\n",
       "    height: 32px;\n",
       "    padding: 0 0 0 0;\n",
       "    width: 32px;\n",
       "  }\n",
       "\n",
       "  .colab-df-quickchart:hover {\n",
       "    background-color: #E2EBFA;\n",
       "    box-shadow: 0px 1px 2px rgba(60, 64, 67, 0.3), 0px 1px 3px 1px rgba(60, 64, 67, 0.15);\n",
       "    fill: #174EA6;\n",
       "  }\n",
       "\n",
       "  [theme=dark] .colab-df-quickchart {\n",
       "    background-color: #3B4455;\n",
       "    fill: #D2E3FC;\n",
       "  }\n",
       "\n",
       "  [theme=dark] .colab-df-quickchart:hover {\n",
       "    background-color: #434B5C;\n",
       "    box-shadow: 0px 1px 3px 1px rgba(0, 0, 0, 0.15);\n",
       "    filter: drop-shadow(0px 1px 2px rgba(0, 0, 0, 0.3));\n",
       "    fill: #FFFFFF;\n",
       "  }\n",
       "</style>\n",
       "\n",
       "    <script>\n",
       "      async function quickchart(key) {\n",
       "        const containerElement = document.querySelector('#' + key);\n",
       "        const charts = await google.colab.kernel.invokeFunction(\n",
       "            'suggestCharts', [key], {});\n",
       "      }\n",
       "    </script>\n",
       "\n",
       "      <script>\n",
       "\n",
       "function displayQuickchartButton(domScope) {\n",
       "  let quickchartButtonEl =\n",
       "    domScope.querySelector('#df-7c6254e2-96dd-401c-9b6b-fda3eea94d8e button.colab-df-quickchart');\n",
       "  quickchartButtonEl.style.display =\n",
       "    google.colab.kernel.accessAllowed ? 'block' : 'none';\n",
       "}\n",
       "\n",
       "        displayQuickchartButton(document);\n",
       "      </script>\n",
       "      <style>\n",
       "    .colab-df-container {\n",
       "      display:flex;\n",
       "      flex-wrap:wrap;\n",
       "      gap: 12px;\n",
       "    }\n",
       "\n",
       "    .colab-df-convert {\n",
       "      background-color: #E8F0FE;\n",
       "      border: none;\n",
       "      border-radius: 50%;\n",
       "      cursor: pointer;\n",
       "      display: none;\n",
       "      fill: #1967D2;\n",
       "      height: 32px;\n",
       "      padding: 0 0 0 0;\n",
       "      width: 32px;\n",
       "    }\n",
       "\n",
       "    .colab-df-convert:hover {\n",
       "      background-color: #E2EBFA;\n",
       "      box-shadow: 0px 1px 2px rgba(60, 64, 67, 0.3), 0px 1px 3px 1px rgba(60, 64, 67, 0.15);\n",
       "      fill: #174EA6;\n",
       "    }\n",
       "\n",
       "    [theme=dark] .colab-df-convert {\n",
       "      background-color: #3B4455;\n",
       "      fill: #D2E3FC;\n",
       "    }\n",
       "\n",
       "    [theme=dark] .colab-df-convert:hover {\n",
       "      background-color: #434B5C;\n",
       "      box-shadow: 0px 1px 3px 1px rgba(0, 0, 0, 0.15);\n",
       "      filter: drop-shadow(0px 1px 2px rgba(0, 0, 0, 0.3));\n",
       "      fill: #FFFFFF;\n",
       "    }\n",
       "  </style>\n",
       "\n",
       "      <script>\n",
       "        const buttonEl =\n",
       "          document.querySelector('#df-044e0853-ac1d-4d60-a7e9-f3893e27bbe2 button.colab-df-convert');\n",
       "        buttonEl.style.display =\n",
       "          google.colab.kernel.accessAllowed ? 'block' : 'none';\n",
       "\n",
       "        async function convertToInteractive(key) {\n",
       "          const element = document.querySelector('#df-044e0853-ac1d-4d60-a7e9-f3893e27bbe2');\n",
       "          const dataTable =\n",
       "            await google.colab.kernel.invokeFunction('convertToInteractive',\n",
       "                                                     [key], {});\n",
       "          if (!dataTable) return;\n",
       "\n",
       "          const docLinkHtml = 'Like what you see? Visit the ' +\n",
       "            '<a target=\"_blank\" href=https://colab.research.google.com/notebooks/data_table.ipynb>data table notebook</a>'\n",
       "            + ' to learn more about interactive tables.';\n",
       "          element.innerHTML = '';\n",
       "          dataTable['output_type'] = 'display_data';\n",
       "          await google.colab.output.renderOutput(dataTable, element);\n",
       "          const docLink = document.createElement('div');\n",
       "          docLink.innerHTML = docLinkHtml;\n",
       "          element.appendChild(docLink);\n",
       "        }\n",
       "      </script>\n",
       "    </div>\n",
       "  </div>\n"
      ],
      "text/plain": [
       "                                                                                                                                                                                                                                                                             text  \\\n",
       "58733  selfstyled godman daati maharaj said 25yearold woman follower accused rape dter put allegations her even hanged put allegations her done anything wrong legal authorities look that added                                                                                    \n",
       "35236  10minute helicopter ride service cost ã¢ââ¹2900 launched sunday visitors statue unity worlds tallest statue situated gujarats kevadia statue unity inrated prime minister narendra modi october 31 gujarat government built statue cost around ã¢ââ¹3000 crore 33 months   \n",
       "7909   retiring england opener alastair cook got 33rd test hundred five overthrows said overthrow india pacer jasprit bumrah saved lot heartache cook cut ravindra jadeja delivery get 97 bumrah threw ball hard stumps resulting four overthrows i thank bumrah while cook added   \n",
       "79285  according delhi high court ruling event organisers pay royalty using copyrighted songs inform three copyright societies including indian performing right society phonographic performance ltd copyrighted work used one shall issue invoice royalty copyright               \n",
       "11827  former finance minister p chidambaram said current gst imperfect a mockery delayed two months the aim one indirect tax subsume indirect taxes gst fails achieve that said added congress press reduction rates 18 cap                                                        \n",
       "\n",
       "                                                                                 summary  \n",
       "58733  sostok _START_ girl dter godman rape charge _END_ eostok                           \n",
       "35236  sostok _START_ helicopter service launched statue unity ã¢ââ¹2900 _END_ eostok    \n",
       "7909   sostok _START_ bumrahs overthrow saved lot heartache alastair cook _END_ eostok    \n",
       "79285  sostok _START_ event organisers pay royalty use copyrighted songs _END_ eostok     \n",
       "11827  sostok _START_ current gst mockery imperfect former finance minister _END_ eostok  "
      ]
     },
     "execution_count": 69,
     "metadata": {},
     "output_type": "execute_result"
    }
   ],
   "source": [
    "data = trim_text_and_summary(data, max_text_len, max_summary_len)\n",
    "print(f'Dataset size: {len(data)}')\n",
    "data.sample(5)"
   ]
  },
  {
   "cell_type": "code",
   "execution_count": null,
   "metadata": {
    "colab": {
     "base_uri": "https://localhost:8080/",
     "height": 35
    },
    "executionInfo": {
     "elapsed": 25,
     "status": "ok",
     "timestamp": 1691462614626,
     "user": {
      "displayName": "Teja Aff",
      "userId": "12974856719468697541"
     },
     "user_tz": 240
    },
    "id": "jaed1vehAFzr",
    "outputId": "8782122e-7676-4b98-9fb1-38d3aad496a2"
   },
   "outputs": [
    {
     "data": {
      "application/vnd.google.colaboratory.intrinsic+json": {
       "type": "string"
      },
      "text/plain": [
       "'sostok _START_ ball play 22 minutes french open final _END_ eostok'"
      ]
     },
     "execution_count": 70,
     "metadata": {},
     "output_type": "execute_result"
    }
   ],
   "source": [
    "data.summary[5]"
   ]
  },
  {
   "cell_type": "code",
   "execution_count": null,
   "metadata": {
    "id": "wAcDS807cn0f"
   },
   "outputs": [],
   "source": [
    "# rare word analysis\n",
    "def get_rare_word_percent(tokenizer, threshold):\n",
    "    # threshold: if the word's occurrence is less than this then it's rare word\n",
    "\n",
    "    count = 0\n",
    "    total_count = 0\n",
    "    frequency = 0\n",
    "    total_frequency = 0\n",
    "\n",
    "    for key, value in tokenizer.word_counts.items():\n",
    "        total_count += 1\n",
    "        total_frequency += value\n",
    "        if value < threshold:\n",
    "            count += 1\n",
    "            frequency += value\n",
    "\n",
    "    return {\n",
    "        'percent': round((count / total_count) * 100, 2),\n",
    "        'total_coverage': round(frequency / total_frequency * 100, 2),\n",
    "        'count': count,\n",
    "        'total_count': total_count\n",
    "    }"
   ]
  },
  {
   "cell_type": "markdown",
   "metadata": {
    "id": "l2m5q3vyF3aj"
   },
   "source": [
    "Seq2seq model building"
   ]
  },
  {
   "cell_type": "code",
   "execution_count": null,
   "metadata": {
    "id": "Wijnxftudbns"
   },
   "outputs": [],
   "source": [
    "import tensorflow as tf\n",
    "import pickle\n",
    "from tensorflow.keras import Input, Model\n",
    "from tensorflow.keras.preprocessing.text import Tokenizer\n",
    "from tensorflow.keras.preprocessing.sequence import pad_sequences\n",
    "from tensorflow.keras.callbacks import EarlyStopping, ReduceLROnPlateau\n",
    "from tensorflow.keras.layers import LSTM, Bidirectional, Dense, Embedding, TimeDistributed"
   ]
  },
  {
   "cell_type": "markdown",
   "metadata": {
    "id": "4Kpa1r4sGCcl"
   },
   "source": [
    "Split the data\n",
    "X = text\n",
    "y=summary"
   ]
  },
  {
   "cell_type": "code",
   "execution_count": null,
   "metadata": {
    "id": "R7Tfa6K6F7Ju"
   },
   "outputs": [],
   "source": [
    "from sklearn.model_selection import train_test_split\n",
    "X_train, X_valid, y_train, y_valid = train_test_split(np.array(data['text']),\n",
    "                                                      np.array(data['summary']),\n",
    "                                                      test_size=0.2,\n",
    "                                                      random_state=0,\n",
    "                                                      shuffle=True)"
   ]
  },
  {
   "cell_type": "code",
   "execution_count": null,
   "metadata": {
    "colab": {
     "base_uri": "https://localhost:8080/"
    },
    "executionInfo": {
     "elapsed": 9,
     "status": "ok",
     "timestamp": 1691462614822,
     "user": {
      "displayName": "Teja Aff",
      "userId": "12974856719468697541"
     },
     "user_tz": 240
    },
    "id": "P46xs4ioRv5L",
    "outputId": "d410f055-e586-4c2c-b133-2ac95226eaf2"
   },
   "outputs": [
    {
     "name": "stdout",
     "output_type": "stream",
     "text": [
      "(78021,)\n",
      "(19506,)\n",
      "(78021,)\n",
      "(19506,)\n"
     ]
    }
   ],
   "source": [
    "print(X_train.shape)\n",
    "print(X_valid.shape)\n",
    "print(y_train.shape)\n",
    "print(y_valid.shape)"
   ]
  },
  {
   "cell_type": "markdown",
   "metadata": {
    "id": "DlDBZLgkNrj_"
   },
   "source": [
    "prepare and tokenize text data"
   ]
  },
  {
   "cell_type": "markdown",
   "metadata": {
    "id": "ZWUrRXt5fR7Y"
   },
   "source": [
    "Tokenize text X"
   ]
  },
  {
   "cell_type": "code",
   "execution_count": null,
   "metadata": {
    "colab": {
     "base_uri": "https://localhost:8080/"
    },
    "executionInfo": {
     "elapsed": 3503,
     "status": "ok",
     "timestamp": 1691462618318,
     "user": {
      "displayName": "Teja Aff",
      "userId": "12974856719468697541"
     },
     "user_tz": 240
    },
    "id": "27bXmtpKdEpP",
    "outputId": "6d91743b-952f-47ad-c04d-0c92697b5b74"
   },
   "outputs": [
    {
     "name": "stdout",
     "output_type": "stream",
     "text": [
      "{'percent': 66.98, 'total_coverage': 3.48, 'count': 70327, 'total_count': 104992}\n"
     ]
    }
   ],
   "source": [
    "# prepare x tokenizer\n",
    "x_tokenizer = Tokenizer()\n",
    "x_tokenizer.fit_on_texts(list(X_train))\n",
    "\n",
    "x_tokens_data = get_rare_word_percent(x_tokenizer, 4)\n",
    "\n",
    "print(x_tokens_data)"
   ]
  },
  {
   "cell_type": "code",
   "execution_count": null,
   "metadata": {
    "id": "5fMgX1fUdFB8"
   },
   "outputs": [],
   "source": [
    "# save tokenizer\n",
    "with open('x_tokenizer', 'wb') as f:\n",
    "    pickle.dump(x_tokenizer, f, protocol=pickle.HIGHEST_PROTOCOL)"
   ]
  },
  {
   "cell_type": "code",
   "execution_count": null,
   "metadata": {
    "colab": {
     "base_uri": "https://localhost:8080/"
    },
    "executionInfo": {
     "elapsed": 2967,
     "status": "ok",
     "timestamp": 1691462621281,
     "user": {
      "displayName": "Teja Aff",
      "userId": "12974856719468697541"
     },
     "user_tz": 240
    },
    "id": "FsqFGc9mdFFp",
    "outputId": "bd8721dc-0495-4b99-ef0c-928000463975"
   },
   "outputs": [
    {
     "name": "stdout",
     "output_type": "stream",
     "text": [
      "104993\n"
     ]
    }
   ],
   "source": [
    "# one-hot-encoding\n",
    "x_train_sequence = x_tokenizer.texts_to_sequences(X_train)\n",
    "x_val_sequence = x_tokenizer.texts_to_sequences(X_valid)\n",
    "\n",
    "# padding upto max_text_len\n",
    "x_train_padded = pad_sequences(x_train_sequence, maxlen=max_text_len, padding='post')\n",
    "x_val_padded = pad_sequences(x_val_sequence, maxlen=max_text_len, padding='post')\n",
    "\n",
    "# size of x vocabulary (+1 for padding token)\n",
    "x_vocab_size = len(x_tokenizer.word_index) + 1\n",
    "\n",
    "print(x_vocab_size)"
   ]
  },
  {
   "cell_type": "markdown",
   "metadata": {
    "id": "utV2LxQpfVd4"
   },
   "source": [
    "Tokenize summary(headline) y"
   ]
  },
  {
   "cell_type": "code",
   "execution_count": null,
   "metadata": {
    "colab": {
     "base_uri": "https://localhost:8080/"
    },
    "executionInfo": {
     "elapsed": 1391,
     "status": "ok",
     "timestamp": 1691462622636,
     "user": {
      "displayName": "Teja Aff",
      "userId": "12974856719468697541"
     },
     "user_tz": 240
    },
    "id": "EPagKgPmdFI4",
    "outputId": "7c13f5b0-3733-47a8-d4cc-f94d0f9b13a4"
   },
   "outputs": [
    {
     "name": "stdout",
     "output_type": "stream",
     "text": [
      "{'percent': 71.55, 'total_coverage': 5.85, 'count': 28495, 'total_count': 39823}\n"
     ]
    }
   ],
   "source": [
    "# prepare y tokenizer\n",
    "y_tokenizer = Tokenizer()\n",
    "y_tokenizer.fit_on_texts(list(y_train))\n",
    "\n",
    "y_tokens_data = get_rare_word_percent(y_tokenizer, 6)\n",
    "print(y_tokens_data)"
   ]
  },
  {
   "cell_type": "code",
   "execution_count": null,
   "metadata": {
    "id": "_M3S8E1gfwLx"
   },
   "outputs": [],
   "source": [
    "# save tokenizer\n",
    "with open('y_tokenizer', 'wb') as f:\n",
    "    pickle.dump(y_tokenizer, f, protocol=pickle.HIGHEST_PROTOCOL)"
   ]
  },
  {
   "cell_type": "code",
   "execution_count": null,
   "metadata": {
    "colab": {
     "base_uri": "https://localhost:8080/"
    },
    "executionInfo": {
     "elapsed": 2078,
     "status": "ok",
     "timestamp": 1691462624709,
     "user": {
      "displayName": "Teja Aff",
      "userId": "12974856719468697541"
     },
     "user_tz": 240
    },
    "id": "z_NOtdxmfi6U",
    "outputId": "464de66e-941b-44f6-bbf6-6fa1166a6dc0"
   },
   "outputs": [
    {
     "name": "stdout",
     "output_type": "stream",
     "text": [
      "39824\n"
     ]
    }
   ],
   "source": [
    "# one-hot-encoding\n",
    "y_train_sequence = y_tokenizer.texts_to_sequences(y_train)\n",
    "y_val_sequence = y_tokenizer.texts_to_sequences(y_valid)\n",
    "\n",
    "# padding upto max_summary_len\n",
    "y_train_padded = pad_sequences(y_train_sequence, maxlen=max_summary_len, padding='post')\n",
    "y_val_padded = pad_sequences(y_val_sequence, maxlen=max_summary_len, padding='post')\n",
    "\n",
    "# size of y vocabulary (+1 for padding token)\n",
    "y_vocab_size = len(y_tokenizer.word_index) + 1\n",
    "\n",
    "print(y_vocab_size)"
   ]
  },
  {
   "cell_type": "markdown",
   "metadata": {
    "id": "q3yJQSw4Qm3I"
   },
   "source": [
    "Removing Summaries which only has sostok and eostok"
   ]
  },
  {
   "cell_type": "code",
   "execution_count": null,
   "metadata": {
    "id": "CfT1e9e-fjHq"
   },
   "outputs": [],
   "source": [
    "# removing summary which only has sostok & eostok\n",
    "def remove_indexes(summary_array):\n",
    "    remove_indexes = []\n",
    "    for i in range(len(summary_array)):\n",
    "        count = 0\n",
    "        for j in summary_array[i]:\n",
    "            if j != 0:\n",
    "                count += 1\n",
    "        if count == 2:\n",
    "            remove_indexes.append(i)\n",
    "    return remove_indexes\n",
    "\n",
    "\n",
    "remove_train_indexes = remove_indexes(y_train_padded)\n",
    "remove_val_indexes = remove_indexes(y_val_padded)\n",
    "\n",
    "y_train_padded = np.delete(y_train_padded, remove_train_indexes, axis=0)\n",
    "x_train_padded = np.delete(x_train_padded, remove_train_indexes, axis=0)\n",
    "\n",
    "y_val_padded = np.delete(y_val_padded, remove_val_indexes, axis=0)\n",
    "x_val_padded = np.delete(x_val_padded, remove_val_indexes, axis=0)"
   ]
  },
  {
   "cell_type": "code",
   "execution_count": null,
   "metadata": {
    "colab": {
     "base_uri": "https://localhost:8080/"
    },
    "executionInfo": {
     "elapsed": 30,
     "status": "ok",
     "timestamp": 1691462628554,
     "user": {
      "displayName": "Teja Aff",
      "userId": "12974856719468697541"
     },
     "user_tz": 240
    },
    "id": "zdhReXsURcPw",
    "outputId": "f099ecd6-a2a6-4c8b-c856-7335a1c19076"
   },
   "outputs": [
    {
     "name": "stdout",
     "output_type": "stream",
     "text": [
      "(78021,)\n",
      "(19506,)\n",
      "(78021,)\n",
      "(19506,)\n"
     ]
    }
   ],
   "source": [
    "print(X_train.shape)\n",
    "print(X_valid.shape)\n",
    "\n",
    "print(y_train.shape)\n",
    "#print(y_train.reshape[:,:-1])\n",
    "print(y_valid.shape)"
   ]
  },
  {
   "cell_type": "markdown",
   "metadata": {
    "id": "e4n9ONYDRZo3"
   },
   "source": [
    "7. Create the model"
   ]
  },
  {
   "cell_type": "code",
   "execution_count": null,
   "metadata": {
    "id": "Rnuyj3xVhDlI"
   },
   "outputs": [],
   "source": [
    "latent_dim = 240\n",
    "embedding_dim = 300\n",
    "num_epochs = 50"
   ]
  },
  {
   "cell_type": "markdown",
   "metadata": {
    "id": "wVzkFdRSjzak"
   },
   "source": [
    "Using pre-trained embeddings and keeping the Embedding layer non-trainable we get increase in computation speed as don't need to compute the embedding matrix"
   ]
  },
  {
   "cell_type": "code",
   "execution_count": null,
   "metadata": {
    "id": "_5S9aKE5tuvP"
   },
   "outputs": [],
   "source": [
    "import os"
   ]
  },
  {
   "cell_type": "code",
   "execution_count": null,
   "metadata": {
    "colab": {
     "base_uri": "https://localhost:8080/"
    },
    "executionInfo": {
     "elapsed": 47643,
     "status": "ok",
     "timestamp": 1691462676174,
     "user": {
      "displayName": "Teja Aff",
      "userId": "12974856719468697541"
     },
     "user_tz": 240
    },
    "id": "bdYMdSt-hDpw",
    "outputId": "bd940b31-4af3-4fa4-a891-bfeee1c635f0"
   },
   "outputs": [
    {
     "name": "stdout",
     "output_type": "stream",
     "text": [
      "Found 400000 word vectors.\n",
      "Converted 55921 words (49071 misses)\n",
      "Found 400000 word vectors.\n",
      "Converted 27364 words (12459 misses)\n"
     ]
    }
   ],
   "source": [
    "def get_embedding_matrix(tokenizer, embedding_dim, vocab_size=None):\n",
    "  word_index = tokenizer.word_index\n",
    "  voc = list(word_index.keys())\n",
    "\n",
    "  path_to_glove_file = '/content/gdrive/MyDrive/612_DeepLearning/Final_Project/glove.6B.300d.txt'\n",
    "\n",
    "  embeddings_index = {}\n",
    "  with open(path_to_glove_file) as f:\n",
    "    for line in f:\n",
    "      word, coefs = line.split(maxsplit=1)\n",
    "      coefs = np.fromstring(coefs, \"f\", sep=\" \")\n",
    "      embeddings_index[word] = coefs\n",
    "\n",
    "  print(\"Found %s word vectors.\" % len(embeddings_index))\n",
    "\n",
    "  num_tokens = len(voc) + 2 if not vocab_size else vocab_size\n",
    "  hits = 0\n",
    "  misses = 0\n",
    "\n",
    "# Prepare embedding matrix\n",
    "  embedding_matrix = np.zeros((num_tokens, embedding_dim))\n",
    "  for word, i in word_index.items():\n",
    "    embedding_vector = embeddings_index.get(word)\n",
    "    if embedding_vector is not None:\n",
    "      # Words not found in embedding index will be all-zeros.\n",
    "      # This includes the representation for \"padding\" and \"OOV\"\n",
    "      embedding_matrix[i] = embedding_vector\n",
    "      hits += 1\n",
    "    else:\n",
    "      misses += 1\n",
    "  print(\"Converted %d words (%d misses)\" % (hits, misses))\n",
    "\n",
    "  return embedding_matrix\n",
    "\n",
    "x_embedding_matrix = get_embedding_matrix(x_tokenizer, embedding_dim, x_vocab_size)\n",
    "y_embedding_matrix = get_embedding_matrix(y_tokenizer, embedding_dim, y_vocab_size)"
   ]
  },
  {
   "cell_type": "code",
   "execution_count": null,
   "metadata": {
    "colab": {
     "base_uri": "https://localhost:8080/"
    },
    "executionInfo": {
     "elapsed": 21,
     "status": "ok",
     "timestamp": 1691462676175,
     "user": {
      "displayName": "Teja Aff",
      "userId": "12974856719468697541"
     },
     "user_tz": 240
    },
    "id": "dlUBUgP6hDtE",
    "outputId": "08abda64-5126-4360-c3af-fd74af535e17"
   },
   "outputs": [
    {
     "name": "stdout",
     "output_type": "stream",
     "text": [
      "(104993, 300)\n",
      "(39824, 300)\n"
     ]
    }
   ],
   "source": [
    "print(x_embedding_matrix.shape)\n",
    "print(y_embedding_matrix.shape)"
   ]
  },
  {
   "cell_type": "markdown",
   "metadata": {
    "id": "0cqKT1RbPl4k"
   },
   "source": [
    "Seq model with LSTMs\n",
    "Both encoder and decoder have just LSTMs"
   ]
  },
  {
   "cell_type": "code",
   "execution_count": null,
   "metadata": {
    "id": "WNQNDV14_iHX"
   },
   "outputs": [],
   "source": [
    "def build_seq2seq_model_with_just_lstm(\n",
    "    embedding_dim, latent_dim, max_text_len,\n",
    "    x_vocab_size, y_vocab_size,\n",
    "    x_embedding_matrix, y_embedding_matrix\n",
    "):\n",
    "    # instantiating the model in the strategy scope creates the model on the TPU\n",
    "    #with tpu_strategy.scope():\n",
    "\n",
    "        # =====================\n",
    "        # Encoder\n",
    "        # =====================\n",
    "        encoder_input = Input(shape=(max_text_len, ))\n",
    "\n",
    "        # encoder embedding layer\n",
    "        encoder_embedding = Embedding(\n",
    "            x_vocab_size,\n",
    "            embedding_dim,\n",
    "            embeddings_initializer=tf.keras.initializers.Constant(x_embedding_matrix),\n",
    "            trainable=False\n",
    "        )(encoder_input)\n",
    "\n",
    "        # encoder lstm 1\n",
    "        encoder_lstm1 = LSTM(\n",
    "            latent_dim,\n",
    "            return_sequences=True,\n",
    "            return_state=True,\n",
    "            dropout=0.4,\n",
    "            recurrent_dropout=0.4\n",
    "        )\n",
    "        encoder_output1, state_h1, state_c1 = encoder_lstm1(encoder_embedding)\n",
    "\n",
    "        # encoder lstm 2\n",
    "        encoder_lstm2 = LSTM(\n",
    "            latent_dim,\n",
    "            return_sequences=True,\n",
    "            return_state=True,\n",
    "            dropout=0.4,\n",
    "            recurrent_dropout=0.4\n",
    "        )\n",
    "        encoder_output, *encoder_final_states = encoder_lstm2(encoder_output1)\n",
    "\n",
    "        # =====================\n",
    "        # Decoder\n",
    "        # =====================\n",
    "\n",
    "        # Set up the decoder, using `encoder_states` as initial state.\n",
    "\n",
    "        decoder_input = Input(shape=(None, ))\n",
    "\n",
    "        # decoder embedding layer\n",
    "        decoder_embedding_layer = Embedding(\n",
    "            y_vocab_size,\n",
    "            embedding_dim,\n",
    "            embeddings_initializer=tf.keras.initializers.Constant(y_embedding_matrix),\n",
    "            trainable=True\n",
    "        )\n",
    "        decoder_embedding = decoder_embedding_layer(decoder_input)\n",
    "\n",
    "        # decoder lstm 1\n",
    "        decoder_lstm = LSTM(\n",
    "            latent_dim,\n",
    "            return_sequences=True,\n",
    "            return_state=True,\n",
    "            dropout=0.4,\n",
    "            recurrent_dropout=0.4\n",
    "        )\n",
    "        decoder_output, *decoder_final_states = decoder_lstm(\n",
    "            decoder_embedding, initial_state=encoder_final_states\n",
    "        )\n",
    "\n",
    "        # dense layer\n",
    "        decoder_dense = TimeDistributed(\n",
    "            Dense(y_vocab_size, activation='softmax')\n",
    "        )\n",
    "        decoder_output = decoder_dense(decoder_output)\n",
    "\n",
    "        # =====================\n",
    "        #  Model\n",
    "        # =====================\n",
    "        model = Model([encoder_input, decoder_input], decoder_output)\n",
    "        model.summary()\n",
    "\n",
    "        optimizer = tf.keras.optimizers.RMSprop(learning_rate=0.001)\n",
    "        model.compile(\n",
    "            optimizer=optimizer,\n",
    "            loss='sparse_categorical_crossentropy',\n",
    "            metrics=['accuracy']\n",
    "        )\n",
    "\n",
    "        return {\n",
    "            'model': model,\n",
    "            'inputs': {\n",
    "                'encoder': encoder_input,\n",
    "                'decoder': decoder_input\n",
    "            },\n",
    "            'outputs': {\n",
    "                'encoder': encoder_output,\n",
    "                'decoder': decoder_output\n",
    "            },\n",
    "            'states': {\n",
    "                'encoder': encoder_final_states,\n",
    "                'decoder': decoder_final_states\n",
    "            },\n",
    "            'layers': {\n",
    "                'decoder': {\n",
    "                    'embedding': decoder_embedding_layer,\n",
    "                    'last_decoder_lstm': decoder_lstm,\n",
    "                    'dense': decoder_dense\n",
    "                }\n",
    "            }\n",
    "        }"
   ]
  },
  {
   "cell_type": "code",
   "execution_count": null,
   "metadata": {
    "colab": {
     "base_uri": "https://localhost:8080/"
    },
    "executionInfo": {
     "elapsed": 853,
     "status": "ok",
     "timestamp": 1691462677010,
     "user": {
      "displayName": "Teja Aff",
      "userId": "12974856719468697541"
     },
     "user_tz": 240
    },
    "id": "ip0c2q02_iQ1",
    "outputId": "871e6846-5cea-4304-9838-fdb8cd6945eb"
   },
   "outputs": [
    {
     "name": "stderr",
     "output_type": "stream",
     "text": [
      "WARNING:tensorflow:Layer lstm_3 will not use cuDNN kernels since it doesn't meet the criteria. It will use a generic GPU kernel as fallback when running on GPU.\n",
      "WARNING:tensorflow:Layer lstm_4 will not use cuDNN kernels since it doesn't meet the criteria. It will use a generic GPU kernel as fallback when running on GPU.\n",
      "WARNING:tensorflow:Layer lstm_5 will not use cuDNN kernels since it doesn't meet the criteria. It will use a generic GPU kernel as fallback when running on GPU.\n"
     ]
    },
    {
     "name": "stdout",
     "output_type": "stream",
     "text": [
      "Model: \"model_3\"\n",
      "__________________________________________________________________________________________________\n",
      " Layer (type)                   Output Shape         Param #     Connected to                     \n",
      "==================================================================================================\n",
      " input_6 (InputLayer)           [(None, 43)]         0           []                               \n",
      "                                                                                                  \n",
      " embedding_2 (Embedding)        (None, 43, 300)      31497900    ['input_6[0][0]']                \n",
      "                                                                                                  \n",
      " input_7 (InputLayer)           [(None, None)]       0           []                               \n",
      "                                                                                                  \n",
      " lstm_3 (LSTM)                  [(None, 43, 240),    519360      ['embedding_2[0][0]']            \n",
      "                                 (None, 240),                                                     \n",
      "                                 (None, 240)]                                                     \n",
      "                                                                                                  \n",
      " embedding_3 (Embedding)        (None, None, 300)    11947200    ['input_7[0][0]']                \n",
      "                                                                                                  \n",
      " lstm_4 (LSTM)                  [(None, 43, 240),    461760      ['lstm_3[0][0]']                 \n",
      "                                 (None, 240),                                                     \n",
      "                                 (None, 240)]                                                     \n",
      "                                                                                                  \n",
      " lstm_5 (LSTM)                  [(None, None, 240),  519360      ['embedding_3[0][0]',            \n",
      "                                 (None, 240),                     'lstm_4[0][1]',                 \n",
      "                                 (None, 240)]                     'lstm_4[0][2]']                 \n",
      "                                                                                                  \n",
      " time_distributed_1 (TimeDistri  (None, None, 39824)  9597584    ['lstm_5[0][0]']                 \n",
      " buted)                                                                                           \n",
      "                                                                                                  \n",
      "==================================================================================================\n",
      "Total params: 54,543,164\n",
      "Trainable params: 23,045,264\n",
      "Non-trainable params: 31,497,900\n",
      "__________________________________________________________________________________________________\n"
     ]
    }
   ],
   "source": [
    "seq2seq = build_seq2seq_model_with_just_lstm(\n",
    "    embedding_dim, latent_dim, max_text_len,\n",
    "    x_vocab_size, y_vocab_size,\n",
    "    x_embedding_matrix, y_embedding_matrix\n",
    ")"
   ]
  },
  {
   "cell_type": "code",
   "execution_count": null,
   "metadata": {
    "id": "pYhZP6y0RaDC"
   },
   "outputs": [],
   "source": [
    "model = seq2seq['model']\n",
    "\n",
    "encoder_input = seq2seq['inputs']['encoder']\n",
    "decoder_input = seq2seq['inputs']['decoder']\n",
    "\n",
    "encoder_output = seq2seq['outputs']['encoder']\n",
    "decoder_output = seq2seq['outputs']['decoder']\n",
    "\n",
    "encoder_final_states = seq2seq['states']['encoder']\n",
    "decoder_final_states = seq2seq['states']['decoder']\n",
    "\n",
    "decoder_embedding_layer = seq2seq['layers']['decoder']['embedding']\n",
    "last_decoder_lstm = seq2seq['layers']['decoder']['last_decoder_lstm']\n",
    "decoder_dense = seq2seq['layers']['decoder']['dense']"
   ]
  },
  {
   "cell_type": "code",
   "execution_count": null,
   "metadata": {
    "colab": {
     "base_uri": "https://localhost:8080/"
    },
    "executionInfo": {
     "elapsed": 15,
     "status": "ok",
     "timestamp": 1691462677162,
     "user": {
      "displayName": "Teja Aff",
      "userId": "12974856719468697541"
     },
     "user_tz": 240
    },
    "id": "lEz9W7rGRsJ7",
    "outputId": "d3183d7f-c5f2-4553-d15a-c3c95607132b"
   },
   "outputs": [
    {
     "data": {
      "text/plain": [
       "[<KerasTensor: shape=(None, None, 300) dtype=float32 (created by layer 'embedding_3')>,\n",
       " <KerasTensor: shape=(None, 240) dtype=float32 (created by layer 'lstm_4')>,\n",
       " <KerasTensor: shape=(None, 240) dtype=float32 (created by layer 'lstm_4')>]"
      ]
     },
     "execution_count": 90,
     "metadata": {},
     "output_type": "execute_result"
    }
   ],
   "source": [
    "model.layers[-2].input"
   ]
  },
  {
   "cell_type": "code",
   "execution_count": null,
   "metadata": {
    "id": "j4Wq_0wgRsaf"
   },
   "outputs": [],
   "source": [
    "callbacks = [\n",
    "    EarlyStopping(monitor='val_loss', mode='min', verbose=1, patience=2),\n",
    "    ReduceLROnPlateau(monitor='val_loss', factor=0.1, patience=2, min_lr=0.000001, verbose=1),\n",
    "]"
   ]
  },
  {
   "cell_type": "code",
   "execution_count": null,
   "metadata": {
    "colab": {
     "base_uri": "https://localhost:8080/"
    },
    "executionInfo": {
     "elapsed": 17639996,
     "status": "ok",
     "timestamp": 1691480317147,
     "user": {
      "displayName": "Teja Aff",
      "userId": "12974856719468697541"
     },
     "user_tz": 240
    },
    "id": "yy4ejrmiR4F8",
    "outputId": "911b1ffe-29d9-4f0d-b26c-a1382bd16c35"
   },
   "outputs": [
    {
     "name": "stdout",
     "output_type": "stream",
     "text": [
      "Epoch 1/50\n",
      "610/610 [==============================] - 393s 626ms/step - loss: 5.7648 - accuracy: 0.3565 - val_loss: 5.2591 - val_accuracy: 0.4147 - lr: 0.0010\n",
      "Epoch 2/50\n",
      "610/610 [==============================] - 376s 616ms/step - loss: 5.4079 - accuracy: 0.3978 - val_loss: 5.1588 - val_accuracy: 0.4163 - lr: 0.0010\n",
      "Epoch 3/50\n",
      "610/610 [==============================] - 357s 585ms/step - loss: 5.2739 - accuracy: 0.4011 - val_loss: 4.9948 - val_accuracy: 0.4203 - lr: 0.0010\n",
      "Epoch 4/50\n",
      "610/610 [==============================] - 357s 586ms/step - loss: 5.0610 - accuracy: 0.4073 - val_loss: 4.7758 - val_accuracy: 0.4262 - lr: 0.0010\n",
      "Epoch 5/50\n",
      "610/610 [==============================] - 355s 583ms/step - loss: 4.8756 - accuracy: 0.4120 - val_loss: 4.6355 - val_accuracy: 0.4301 - lr: 0.0010\n",
      "Epoch 6/50\n",
      "610/610 [==============================] - 356s 583ms/step - loss: 4.7212 - accuracy: 0.4169 - val_loss: 4.4982 - val_accuracy: 0.4340 - lr: 0.0010\n",
      "Epoch 7/50\n",
      "610/610 [==============================] - 355s 582ms/step - loss: 4.5751 - accuracy: 0.4223 - val_loss: 4.3597 - val_accuracy: 0.4410 - lr: 0.0010\n",
      "Epoch 8/50\n",
      "610/610 [==============================] - 357s 586ms/step - loss: 4.4411 - accuracy: 0.4278 - val_loss: 4.2544 - val_accuracy: 0.4465 - lr: 0.0010\n",
      "Epoch 9/50\n",
      "610/610 [==============================] - 353s 578ms/step - loss: 4.3231 - accuracy: 0.4334 - val_loss: 4.1578 - val_accuracy: 0.4521 - lr: 0.0010\n",
      "Epoch 10/50\n",
      "610/610 [==============================] - 351s 575ms/step - loss: 4.2166 - accuracy: 0.4384 - val_loss: 4.0797 - val_accuracy: 0.4561 - lr: 0.0010\n",
      "Epoch 11/50\n",
      "610/610 [==============================] - 353s 580ms/step - loss: 4.1194 - accuracy: 0.4434 - val_loss: 4.0122 - val_accuracy: 0.4588 - lr: 0.0010\n",
      "Epoch 12/50\n",
      "610/610 [==============================] - 350s 574ms/step - loss: 4.0302 - accuracy: 0.4480 - val_loss: 3.9565 - val_accuracy: 0.4624 - lr: 0.0010\n",
      "Epoch 13/50\n",
      "610/610 [==============================] - 351s 575ms/step - loss: 3.9472 - accuracy: 0.4526 - val_loss: 3.8766 - val_accuracy: 0.4680 - lr: 0.0010\n",
      "Epoch 14/50\n",
      "610/610 [==============================] - 352s 578ms/step - loss: 3.8705 - accuracy: 0.4567 - val_loss: 3.8336 - val_accuracy: 0.4699 - lr: 0.0010\n",
      "Epoch 15/50\n",
      "610/610 [==============================] - 352s 577ms/step - loss: 3.7982 - accuracy: 0.4608 - val_loss: 3.7828 - val_accuracy: 0.4735 - lr: 0.0010\n",
      "Epoch 16/50\n",
      "610/610 [==============================] - 353s 579ms/step - loss: 3.7316 - accuracy: 0.4645 - val_loss: 3.7448 - val_accuracy: 0.4761 - lr: 0.0010\n",
      "Epoch 17/50\n",
      "610/610 [==============================] - 350s 574ms/step - loss: 3.6675 - accuracy: 0.4683 - val_loss: 3.6963 - val_accuracy: 0.4802 - lr: 0.0010\n",
      "Epoch 18/50\n",
      "610/610 [==============================] - 352s 576ms/step - loss: 3.6074 - accuracy: 0.4719 - val_loss: 3.6605 - val_accuracy: 0.4819 - lr: 0.0010\n",
      "Epoch 19/50\n",
      "610/610 [==============================] - 354s 580ms/step - loss: 3.5513 - accuracy: 0.4753 - val_loss: 3.6322 - val_accuracy: 0.4842 - lr: 0.0010\n",
      "Epoch 20/50\n",
      "610/610 [==============================] - 352s 578ms/step - loss: 3.4984 - accuracy: 0.4783 - val_loss: 3.5972 - val_accuracy: 0.4869 - lr: 0.0010\n",
      "Epoch 21/50\n",
      "610/610 [==============================] - 350s 573ms/step - loss: 3.4468 - accuracy: 0.4818 - val_loss: 3.5785 - val_accuracy: 0.4862 - lr: 0.0010\n",
      "Epoch 22/50\n",
      "610/610 [==============================] - 354s 579ms/step - loss: 3.3990 - accuracy: 0.4847 - val_loss: 3.5619 - val_accuracy: 0.4872 - lr: 0.0010\n",
      "Epoch 23/50\n",
      "610/610 [==============================] - 352s 577ms/step - loss: 3.3534 - accuracy: 0.4874 - val_loss: 3.5257 - val_accuracy: 0.4914 - lr: 0.0010\n",
      "Epoch 24/50\n",
      "610/610 [==============================] - 349s 573ms/step - loss: 3.3094 - accuracy: 0.4902 - val_loss: 3.5236 - val_accuracy: 0.4898 - lr: 0.0010\n",
      "Epoch 25/50\n",
      "610/610 [==============================] - 352s 576ms/step - loss: 3.2677 - accuracy: 0.4928 - val_loss: 3.5083 - val_accuracy: 0.4896 - lr: 0.0010\n",
      "Epoch 26/50\n",
      "610/610 [==============================] - 352s 577ms/step - loss: 3.2273 - accuracy: 0.4957 - val_loss: 3.4711 - val_accuracy: 0.4946 - lr: 0.0010\n",
      "Epoch 27/50\n",
      "610/610 [==============================] - 351s 574ms/step - loss: 3.1887 - accuracy: 0.4983 - val_loss: 3.4636 - val_accuracy: 0.4940 - lr: 0.0010\n",
      "Epoch 28/50\n",
      "610/610 [==============================] - 352s 577ms/step - loss: 3.1522 - accuracy: 0.5005 - val_loss: 3.4400 - val_accuracy: 0.4964 - lr: 0.0010\n",
      "Epoch 29/50\n",
      "610/610 [==============================] - 350s 574ms/step - loss: 3.1172 - accuracy: 0.5030 - val_loss: 3.4388 - val_accuracy: 0.4958 - lr: 0.0010\n",
      "Epoch 30/50\n",
      "610/610 [==============================] - 349s 572ms/step - loss: 3.0819 - accuracy: 0.5056 - val_loss: 3.4251 - val_accuracy: 0.4973 - lr: 0.0010\n",
      "Epoch 31/50\n",
      "610/610 [==============================] - 351s 575ms/step - loss: 3.0484 - accuracy: 0.5074 - val_loss: 3.4023 - val_accuracy: 0.4994 - lr: 0.0010\n",
      "Epoch 32/50\n",
      "610/610 [==============================] - 351s 575ms/step - loss: 3.0161 - accuracy: 0.5099 - val_loss: 3.3856 - val_accuracy: 0.5018 - lr: 0.0010\n",
      "Epoch 33/50\n",
      "610/610 [==============================] - 351s 576ms/step - loss: 2.9850 - accuracy: 0.5123 - val_loss: 3.3966 - val_accuracy: 0.4979 - lr: 0.0010\n",
      "Epoch 34/50\n",
      "610/610 [==============================] - 350s 574ms/step - loss: 2.9554 - accuracy: 0.5143 - val_loss: 3.3692 - val_accuracy: 0.5018 - lr: 0.0010\n",
      "Epoch 35/50\n",
      "610/610 [==============================] - 350s 575ms/step - loss: 2.9259 - accuracy: 0.5163 - val_loss: 3.3543 - val_accuracy: 0.5048 - lr: 0.0010\n",
      "Epoch 36/50\n",
      "610/610 [==============================] - 350s 574ms/step - loss: 2.8982 - accuracy: 0.5181 - val_loss: 3.3528 - val_accuracy: 0.5036 - lr: 0.0010\n",
      "Epoch 37/50\n",
      "610/610 [==============================] - 351s 575ms/step - loss: 2.8693 - accuracy: 0.5207 - val_loss: 3.3498 - val_accuracy: 0.5036 - lr: 0.0010\n",
      "Epoch 38/50\n",
      "610/610 [==============================] - 348s 571ms/step - loss: 2.8434 - accuracy: 0.5224 - val_loss: 3.3306 - val_accuracy: 0.5069 - lr: 0.0010\n",
      "Epoch 39/50\n",
      "610/610 [==============================] - 351s 575ms/step - loss: 2.8167 - accuracy: 0.5245 - val_loss: 3.3279 - val_accuracy: 0.5062 - lr: 0.0010\n",
      "Epoch 40/50\n",
      "610/610 [==============================] - 349s 572ms/step - loss: 2.7909 - accuracy: 0.5264 - val_loss: 3.3151 - val_accuracy: 0.5081 - lr: 0.0010\n",
      "Epoch 41/50\n",
      "610/610 [==============================] - 351s 575ms/step - loss: 2.7659 - accuracy: 0.5285 - val_loss: 3.3232 - val_accuracy: 0.5058 - lr: 0.0010\n",
      "Epoch 42/50\n",
      "610/610 [==============================] - 348s 570ms/step - loss: 2.7421 - accuracy: 0.5301 - val_loss: 3.3080 - val_accuracy: 0.5083 - lr: 0.0010\n",
      "Epoch 43/50\n",
      "610/610 [==============================] - 349s 572ms/step - loss: 2.7184 - accuracy: 0.5321 - val_loss: 3.3077 - val_accuracy: 0.5078 - lr: 0.0010\n",
      "Epoch 44/50\n",
      "610/610 [==============================] - 352s 577ms/step - loss: 2.6955 - accuracy: 0.5335 - val_loss: 3.3138 - val_accuracy: 0.5057 - lr: 0.0010\n",
      "Epoch 45/50\n",
      "610/610 [==============================] - 348s 571ms/step - loss: 2.6727 - accuracy: 0.5359 - val_loss: 3.2929 - val_accuracy: 0.5096 - lr: 0.0010\n",
      "Epoch 46/50\n",
      "610/610 [==============================] - 351s 576ms/step - loss: 2.6502 - accuracy: 0.5378 - val_loss: 3.2911 - val_accuracy: 0.5091 - lr: 0.0010\n",
      "Epoch 47/50\n",
      "610/610 [==============================] - 349s 572ms/step - loss: 2.6275 - accuracy: 0.5397 - val_loss: 3.2861 - val_accuracy: 0.5100 - lr: 0.0010\n",
      "Epoch 48/50\n",
      "610/610 [==============================] - 348s 570ms/step - loss: 2.6088 - accuracy: 0.5410 - val_loss: 3.2814 - val_accuracy: 0.5111 - lr: 0.0010\n",
      "Epoch 49/50\n",
      "610/610 [==============================] - 352s 577ms/step - loss: 2.5859 - accuracy: 0.5429 - val_loss: 3.2986 - val_accuracy: 0.5068 - lr: 0.0010\n",
      "Epoch 50/50\n",
      "610/610 [==============================] - 350s 573ms/step - loss: 2.5659 - accuracy: 0.5445 - val_loss: 3.2758 - val_accuracy: 0.5108 - lr: 0.0010\n"
     ]
    }
   ],
   "source": [
    "history = model.fit(\n",
    "    [x_train_padded, y_train_padded[:, :-1]],\n",
    "    y_train_padded.reshape(y_train_padded.shape[0], y_train_padded.shape[1], 1)[:, 1:],\n",
    "    epochs=num_epochs,\n",
    "    batch_size=128,\n",
    "    callbacks=callbacks,\n",
    "    validation_data=(\n",
    "        [x_val_padded, y_val_padded[:, :-1]],\n",
    "        y_val_padded.reshape(y_val_padded.shape[0], y_val_padded.shape[1], 1)[:, 1:]\n",
    "    )\n",
    ")"
   ]
  },
  {
   "cell_type": "code",
   "execution_count": null,
   "metadata": {
    "id": "ddvhsu9sU3ap"
   },
   "outputs": [],
   "source": [
    "# save the model\n",
    "model.save('/encoder_decoder_summarization_news_summary_more50.h5')"
   ]
  },
  {
   "cell_type": "code",
   "execution_count": null,
   "metadata": {
    "id": "tWBpkTic9ta9"
   },
   "outputs": [],
   "source": [
    "# load the saved model\n",
    "#new_model = tf.keras.models.load_model('/content/gdrive/MyDrive/612_DeepLearning/Final_Project/encoder_decoder_summarization_news_summary_more.h5')\n",
    "\n",
    "# Check its architecture\n",
    "#new_model.summary()"
   ]
  },
  {
   "cell_type": "code",
   "execution_count": null,
   "metadata": {
    "colab": {
     "base_uri": "https://localhost:8080/",
     "height": 466
    },
    "executionInfo": {
     "elapsed": 307,
     "status": "ok",
     "timestamp": 1691480353383,
     "user": {
      "displayName": "Teja Aff",
      "userId": "12974856719468697541"
     },
     "user_tz": 240
    },
    "id": "cpi1ANulR4V4",
    "outputId": "fedbd52c-b4dc-4fbd-b7a3-4833b45e5197"
   },
   "outputs": [
    {
     "data": {
      "text/plain": [
       "<matplotlib.legend.Legend at 0x78faa3b8c160>"
      ]
     },
     "execution_count": 95,
     "metadata": {},
     "output_type": "execute_result"
    },
    {
     "data": {
      "image/png": "[encoded data removed]",
      "text/plain": [
       "<Figure size 640x480 with 1 Axes>"
      ]
     },
     "metadata": {},
     "output_type": "display_data"
    }
   ],
   "source": [
    "# Accuracy\n",
    "plt.plot(history.history['accuracy'][1:], label='train accuracy')\n",
    "plt.plot(history.history['val_accuracy'], label='test accuracy')\n",
    "plt.xlabel('Epoch')\n",
    "plt.ylabel('Accuracy')\n",
    "plt.legend(loc='lower right')\n",
    "plt.title('Encoder-Decoder model accuracy')"
   ]
  },
  {
   "cell_type": "code",
   "execution_count": null,
   "metadata": {
    "colab": {
     "base_uri": "https://localhost:8080/",
     "height": 466
    },
    "executionInfo": {
     "elapsed": 189,
     "status": "ok",
     "timestamp": 1691480353568,
     "user": {
      "displayName": "Teja Aff",
      "userId": "12974856719468697541"
     },
     "user_tz": 240
    },
    "id": "jxHvTCXJfqvS",
    "outputId": "cff2ba3a-e260-4a48-e6c4-851c6b34df28"
   },
   "outputs": [
    {
     "data": {
      "text/plain": [
       "<matplotlib.legend.Legend at 0x78f9c46f4580>"
      ]
     },
     "execution_count": 96,
     "metadata": {},
     "output_type": "execute_result"
    },
    {
     "data": {
      "image/png": "[encoded data removed]",
      "text/plain": [
       "<Figure size 640x480 with 1 Axes>"
      ]
     },
     "metadata": {},
     "output_type": "display_data"
    }
   ],
   "source": [
    "# Loss\n",
    "plt.plot(history.history['loss'][1:], label='train loss')\n",
    "plt.plot(history.history['val_loss'], label='val')\n",
    "plt.xlabel('Epoch')\n",
    "plt.ylabel('Loss')\n",
    "plt.legend(loc='lower right')\n",
    "plt.title('Encoder-Decoder model loss')"
   ]
  },
  {
   "cell_type": "markdown",
   "metadata": {
    "id": "MvLzEBvCf0da"
   },
   "source": [
    "Load saved model"
   ]
  },
  {
   "cell_type": "code",
   "execution_count": null,
   "metadata": {
    "colab": {
     "base_uri": "https://localhost:8080/"
    },
    "executionInfo": {
     "elapsed": 11158,
     "status": "ok",
     "timestamp": 1691480364722,
     "user": {
      "displayName": "Teja Aff",
      "userId": "12974856719468697541"
     },
     "user_tz": 240
    },
    "id": "Ue4PYxXivV0J",
    "outputId": "a179d23d-e991-4bf5-804d-3c0a8e75d408"
   },
   "outputs": [
    {
     "name": "stderr",
     "output_type": "stream",
     "text": [
      "WARNING:tensorflow:Layer lstm_3 will not use cuDNN kernels since it doesn't meet the criteria. It will use a generic GPU kernel as fallback when running on GPU.\n",
      "WARNING:tensorflow:Layer lstm_4 will not use cuDNN kernels since it doesn't meet the criteria. It will use a generic GPU kernel as fallback when running on GPU.\n",
      "WARNING:tensorflow:Layer lstm_5 will not use cuDNN kernels since it doesn't meet the criteria. It will use a generic GPU kernel as fallback when running on GPU.\n"
     ]
    },
    {
     "name": "stdout",
     "output_type": "stream",
     "text": [
      "Model: \"model_3\"\n",
      "__________________________________________________________________________________________________\n",
      " Layer (type)                   Output Shape         Param #     Connected to                     \n",
      "==================================================================================================\n",
      " input_6 (InputLayer)           [(None, 42)]         0           []                               \n",
      "                                                                                                  \n",
      " embedding_2 (Embedding)        (None, 42, 300)      5789400     ['input_6[0][0]']                \n",
      "                                                                                                  \n",
      " input_7 (InputLayer)           [(None, None)]       0           []                               \n",
      "                                                                                                  \n",
      " lstm_3 (LSTM)                  [(None, 42, 240),    519360      ['embedding_2[0][0]']            \n",
      "                                 (None, 240),                                                     \n",
      "                                 (None, 240)]                                                     \n",
      "                                                                                                  \n",
      " embedding_3 (Embedding)        (None, None, 300)    2400000     ['input_7[0][0]']                \n",
      "                                                                                                  \n",
      " lstm_4 (LSTM)                  [(None, 42, 240),    461760      ['lstm_3[0][0]']                 \n",
      "                                 (None, 240),                                                     \n",
      "                                 (None, 240)]                                                     \n",
      "                                                                                                  \n",
      " lstm_5 (LSTM)                  [(None, None, 240),  519360      ['embedding_3[0][0]',            \n",
      "                                 (None, 240),                     'lstm_4[0][1]',                 \n",
      "                                 (None, 240)]                     'lstm_4[0][2]']                 \n",
      "                                                                                                  \n",
      " time_distributed_1 (TimeDistri  (None, None, 8000)  1928000     ['lstm_5[0][0]']                 \n",
      " buted)                                                                                           \n",
      "                                                                                                  \n",
      "==================================================================================================\n",
      "Total params: 11,617,880\n",
      "Trainable params: 5,828,480\n",
      "Non-trainable params: 5,789,400\n",
      "__________________________________________________________________________________________________\n"
     ]
    }
   ],
   "source": [
    "# load saved model\n",
    "#encoder_decoder_model = tf.keras.models.load_model('/encoder_decoder_summarization_news_summary.h5')\n",
    "\n",
    "# Check its architecture\n",
    "#encoder_decoder_model.summary()"
   ]
  },
  {
   "cell_type": "markdown",
   "metadata": {
    "id": "tTK-gIrif0hH"
   },
   "source": [
    "Inference models\n",
    "Generating Predictions"
   ]
  },
  {
   "cell_type": "code",
   "execution_count": null,
   "metadata": {
    "id": "HY9DLgcxf2SP"
   },
   "outputs": [],
   "source": [
    "# build the dictionary to convert the index to word for target and source vocabulary:\n",
    "reverse_target_word_index = y_tokenizer.index_word\n",
    "reverse_source_word_index = x_tokenizer.index_word\n",
    "target_word_index = y_tokenizer.word_index"
   ]
  },
  {
   "cell_type": "code",
   "execution_count": null,
   "metadata": {
    "colab": {
     "base_uri": "https://localhost:8080/"
    },
    "executionInfo": {
     "elapsed": 264,
     "status": "ok",
     "timestamp": 1691480364974,
     "user": {
      "displayName": "Teja Aff",
      "userId": "12974856719468697541"
     },
     "user_tz": 240
    },
    "id": "Br75K7IFIDO9",
    "outputId": "38c99af4-f620-4a89-a689-98328cb460b1"
   },
   "outputs": [
    {
     "name": "stdout",
     "output_type": "stream",
     "text": [
      "39823\n"
     ]
    }
   ],
   "source": [
    "print(len(reverse_target_word_index))"
   ]
  },
  {
   "cell_type": "code",
   "execution_count": null,
   "metadata": {
    "id": "3Yhi5JTtxkZp"
   },
   "outputs": [],
   "source": [
    "# inference model\n",
    "def build_seq2seq_model_with_just_lstm_inference(\n",
    "    max_text_len, latent_dim, encoder_input, encoder_output,\n",
    "    encoder_final_states, decoder_input, decoder_output,\n",
    "    decoder_embedding_layer, decoder_dense, last_decoder_lstm\n",
    "):\n",
    "    # Encode the input sequence to get the feature vector\n",
    "    encoder_model = Model(\n",
    "        inputs=encoder_input, outputs=[encoder_output] + encoder_final_states\n",
    "    )\n",
    "\n",
    "    # Decoder setup\n",
    "    # Below tensors will hold the states of the previous time step\n",
    "    decoder_state_input_h = Input(shape=(latent_dim, ))\n",
    "    decoder_state_input_c = Input(shape=(latent_dim, ))\n",
    "    decoder_hidden_state_input = Input(shape=(max_text_len, latent_dim))\n",
    "\n",
    "    # Get the embeddings of the decoder sequence\n",
    "    decoder_embedding = decoder_embedding_layer(decoder_input)\n",
    "\n",
    "    # To predict the next word in the sequence, set the initial\n",
    "    # states to the states from the previous time step\n",
    "    decoder_output, *decoder_states = last_decoder_lstm(\n",
    "        decoder_embedding,\n",
    "        initial_state=[decoder_state_input_h, decoder_state_input_c]\n",
    "    )\n",
    "\n",
    "    # A dense softmax layer to generate prob dist. over the target vocabulary\n",
    "    decoder_output = decoder_dense(decoder_output)\n",
    "\n",
    "    # Final decoder model\n",
    "    decoder_model = Model(\n",
    "        [decoder_input] + [decoder_hidden_state_input, decoder_state_input_h, decoder_state_input_c],\n",
    "        [decoder_output] + decoder_states\n",
    "    )\n",
    "\n",
    "    return (encoder_model, decoder_model)"
   ]
  },
  {
   "cell_type": "code",
   "execution_count": null,
   "metadata": {
    "id": "57-6yOQ4yd1d"
   },
   "outputs": [],
   "source": [
    "encoder_model, decoder_model = build_seq2seq_model_with_just_lstm_inference(\n",
    "    max_text_len, latent_dim, encoder_input, encoder_output,\n",
    "    encoder_final_states, decoder_input, decoder_output,\n",
    "    decoder_embedding_layer, decoder_dense, last_decoder_lstm\n",
    ")"
   ]
  },
  {
   "cell_type": "code",
   "execution_count": null,
   "metadata": {
    "colab": {
     "base_uri": "https://localhost:8080/"
    },
    "executionInfo": {
     "elapsed": 167,
     "status": "ok",
     "timestamp": 1691480365136,
     "user": {
      "displayName": "Teja Aff",
      "userId": "12974856719468697541"
     },
     "user_tz": 240
    },
    "id": "i0CIYevjyjjK",
    "outputId": "f9d0464d-8863-4603-d53c-9be74b09357c"
   },
   "outputs": [
    {
     "name": "stdout",
     "output_type": "stream",
     "text": [
      "Model: \"model_4\"\n",
      "_________________________________________________________________\n",
      " Layer (type)                Output Shape              Param #   \n",
      "=================================================================\n",
      " input_6 (InputLayer)        [(None, 43)]              0         \n",
      "                                                                 \n",
      " embedding_2 (Embedding)     (None, 43, 300)           31497900  \n",
      "                                                                 \n",
      " lstm_3 (LSTM)               [(None, 43, 240),         519360    \n",
      "                              (None, 240),                       \n",
      "                              (None, 240)]                       \n",
      "                                                                 \n",
      " lstm_4 (LSTM)               [(None, 43, 240),         461760    \n",
      "                              (None, 240),                       \n",
      "                              (None, 240)]                       \n",
      "                                                                 \n",
      "=================================================================\n",
      "Total params: 32,479,020\n",
      "Trainable params: 981,120\n",
      "Non-trainable params: 31,497,900\n",
      "_________________________________________________________________\n"
     ]
    }
   ],
   "source": [
    "encoder_model.summary()"
   ]
  },
  {
   "cell_type": "code",
   "execution_count": null,
   "metadata": {
    "colab": {
     "base_uri": "https://localhost:8080/"
    },
    "executionInfo": {
     "elapsed": 11,
     "status": "ok",
     "timestamp": 1691480365137,
     "user": {
      "displayName": "Teja Aff",
      "userId": "12974856719468697541"
     },
     "user_tz": 240
    },
    "id": "_Ia2Cwpoyqi6",
    "outputId": "ce56b563-ac95-4427-e137-d60c81736e8b"
   },
   "outputs": [
    {
     "name": "stdout",
     "output_type": "stream",
     "text": [
      "Model: \"model_5\"\n",
      "__________________________________________________________________________________________________\n",
      " Layer (type)                   Output Shape         Param #     Connected to                     \n",
      "==================================================================================================\n",
      " input_7 (InputLayer)           [(None, None)]       0           []                               \n",
      "                                                                                                  \n",
      " embedding_3 (Embedding)        (None, None, 300)    11947200    ['input_7[0][0]']                \n",
      "                                                                                                  \n",
      " input_8 (InputLayer)           [(None, 240)]        0           []                               \n",
      "                                                                                                  \n",
      " input_9 (InputLayer)           [(None, 240)]        0           []                               \n",
      "                                                                                                  \n",
      " lstm_5 (LSTM)                  [(None, None, 240),  519360      ['embedding_3[1][0]',            \n",
      "                                 (None, 240),                     'input_8[0][0]',                \n",
      "                                 (None, 240)]                     'input_9[0][0]']                \n",
      "                                                                                                  \n",
      " input_10 (InputLayer)          [(None, 43, 240)]    0           []                               \n",
      "                                                                                                  \n",
      " time_distributed_1 (TimeDistri  (None, None, 39824)  9597584    ['lstm_5[1][0]']                 \n",
      " buted)                                                                                           \n",
      "                                                                                                  \n",
      "==================================================================================================\n",
      "Total params: 22,064,144\n",
      "Trainable params: 22,064,144\n",
      "Non-trainable params: 0\n",
      "__________________________________________________________________________________________________\n"
     ]
    }
   ],
   "source": [
    "decoder_model.summary()"
   ]
  },
  {
   "cell_type": "code",
   "execution_count": null,
   "metadata": {
    "id": "xpH2Wyr7zEhX"
   },
   "outputs": [],
   "source": [
    "# define decoder sequence\n",
    "def decode_sequence_seq2seq_model_with_just_lstm(\n",
    "    input_sequence, encoder_model, decoder_model\n",
    "):\n",
    "    # Encode the input as state vectors.\n",
    "    e_out, e_h, e_c = encoder_model.predict(input_sequence, verbose=\"False\")\n",
    "\n",
    "    # Generate empty target sequence of length 1.\n",
    "    target_seq = np.zeros((1, 1))\n",
    "\n",
    "    # Populate the first word of target sequence with the start word.\n",
    "    target_seq[0, 0] = target_word_index[start_token]\n",
    "\n",
    "    stop_condition = False\n",
    "    decoded_sentence = ''\n",
    "\n",
    "    while not stop_condition:\n",
    "        output_tokens, h, c = decoder_model.predict(\n",
    "            [target_seq] + [e_out, e_h, e_c],  verbose=\"False\"\n",
    "        )\n",
    "\n",
    "        # Sample a token\n",
    "        sampled_token_index = np.argmax(output_tokens[0, -1, :])\n",
    "        sampled_token = reverse_target_word_index[sampled_token_index]\n",
    "\n",
    "        if sampled_token != end_token:\n",
    "          decoded_sentence += ' ' + sampled_token\n",
    "\n",
    "        # Exit condition: either hit max length or find stop word.\n",
    "        if (sampled_token == end_token) or (len(decoded_sentence.split()) >= (max_summary_len - 1)):\n",
    "            stop_condition = True\n",
    "\n",
    "        # Update the target sequence (of length 1).\n",
    "        target_seq = np.zeros((1, 1))\n",
    "        target_seq[0, 0] = sampled_token_index\n",
    "\n",
    "        # Update internal states\n",
    "        e_h, e_c = h, c\n",
    "\n",
    "    return decoded_sentence\n"
   ]
  },
  {
   "cell_type": "code",
   "execution_count": null,
   "metadata": {
    "id": "_BVlfOOIzJRz"
   },
   "outputs": [],
   "source": [
    "def seq2summary(input_sequence):\n",
    "    new_string = ''\n",
    "    for i in input_sequence:\n",
    "        if i != 0 and i != target_word_index[start_token] and i != target_word_index[end_token]:\n",
    "              new_string = new_string + reverse_target_word_index[i] + ' '\n",
    "    return new_string\n",
    "\n",
    "def seq2text(input_sequence):\n",
    "    new_string = ''\n",
    "    for i in input_sequence:\n",
    "        if i != 0:\n",
    "            new_string = new_string + reverse_source_word_index[i] + ' '\n",
    "    return new_string"
   ]
  },
  {
   "cell_type": "code",
   "execution_count": null,
   "metadata": {
    "colab": {
     "base_uri": "https://localhost:8080/"
    },
    "executionInfo": {
     "elapsed": 9191,
     "status": "ok",
     "timestamp": 1691480374323,
     "user": {
      "displayName": "Teja Aff",
      "userId": "12974856719468697541"
     },
     "user_tz": 240
    },
    "id": "nZGenyfF6SbS",
    "outputId": "1e19027e-c828-41c2-d6f1-0159a5e967f0"
   },
   "outputs": [
    {
     "name": "stdout",
     "output_type": "stream",
     "text": [
      "# 1 News:  salary allowances reimbursthements received punjab mlas displayed official website information immovable properties mlas mps state also put government website ruling congress party promised allowances received mlas would updated every month official website \n",
      "Original summary:  start salary allowances punjab mlas made public end \n",
      "Predicted summary:   start punjab mla gets allowances salary allowances post end\n",
      "\n",
      "# 2 News:  human resource development ministry thursday launched atal ranking institutions intion achievthements ariia promote intion research higher education named former pm atal bihari vajpayee ariia rank educational institutions intion output based major indicators parameters used globally hrd minister prakash javadekar said \n",
      "Original summary:  start hrd ministry introduces atal ranking institutions end \n",
      "Predicted summary:   start govt forms government schools indias best curriculum end\n",
      "\n",
      "# 3 News:  extratorrent worlds second largest torrent site pirate bay shut permanently last week extratorrent mirrors goes offlinewe permanently erase data stay away fake extratorrent websites clones read message website extratorrent best known massive index entertainment content downloadable using bittorrent protocol \n",
      "Original summary:  start worlds second largest torrent site extratorrent shuts end \n",
      "Predicted summary:   start worlds largest site shut site shut site end\n",
      "\n",
      "# 4 News:  us president donald trump honoured north korean defector ji seongho first state union speech tuesday seongho defected 2006 tortured north korean regime visit china human rights disability campaigner seongho lost hand left leg north korean train rolled 1996 \n",
      "Original summary:  start trump honours n korean defector state union speech end \n",
      "Predicted summary:   start trump 1st lady kim jongun held n korea end\n",
      "\n",
      "# 5 News:  several kashmiri twitter users regularly tweet conflict valley received themail twitters legal handle stating received official correspondence regarding tweets violating indian law however nature correspondence divulged themail added twitter may take action content future \n",
      "Original summary:  start twitter warns kashmiri users tweeting conflict end \n",
      "Predicted summary:   start twitter users slam twitter users india end\n",
      "\n",
      "# 6 News:  cover elle magazines australia edition shot using portrait mode iphone 7 plus june issue features fashion bloggerstylist margaret zhang cover fashion photographer georges antoni said one thing struck liberating shoot worry lenses tripods tethering computer etc \n",
      "Original summary:  start iphone 7 plus used shoot cover elle magazine end \n",
      "Predicted summary:   start magazine features cover elle magazine cover end\n",
      "\n",
      "# 7 News:  many 19 aiadmk mlas supporting ttv dhinakaran submitted mthemorandums tamil nadu governor stating confidence cm edappadi palaniswami urged rthemoval excerpt petition read mr edappadi palaniswami corrupt encouraging corruption several levels also causing severe damage name party \n",
      "Original summary:  start 19 aiadmk mlas meet governor urge rthemoval eps cm end \n",
      "Predicted summary:   start aiadmk mlas seek notice sasikala seek tax end\n",
      "\n",
      "# 8 News:  underworld dawood ibrahim suffering depression son moin nawaz kaskar chosen become maulana police officials said moin understood deadly fathers illegal activities thane antiextortion cell head pradeep sharma said dawoods younger brother revealed worried handle underworld thempire future \n",
      "Original summary:  start dawood depressed son becoming maulana police end \n",
      "Predicted summary:   start dawood wanted son killed muslim son end\n",
      "\n",
      "# 9 News:  us friday imposed tariff 25 50 billion worth chinese imports escalating trade war two countries us imposed tariffs imports worth 60 billion china march china vowed retaliate us tariffs order to defend its legitimate rights interests \n",
      "Original summary:  start us imposes 25 tariff 50billion chinese imports end \n",
      "Predicted summary:   start us imposes retaliatory tariffs china imports end\n",
      "\n",
      "# 10 News:  bjp politician blamed chandigarh stalking case victim questioned late night women posting images ththemselves midnight hashtag aintnocinderella if 12am mean raped molested chased dignity right 24x7 aintnocinderella woman captioned photo \n",
      "Original summary:  start aintnocinderella mock politician blamed stalking victim end \n",
      "Predicted summary:   start bjp leader booked stalking victim woman posts pic end\n",
      "\n"
     ]
    }
   ],
   "source": [
    "# Testing on training data\n",
    "for i in range(0, 10):\n",
    "    print(f\"# {i+1} News: \", seq2text(x_train_padded[i]))\n",
    "    print(\"Original summary: \", seq2summary(y_train_padded[i]))\n",
    "    print(\n",
    "        \"Predicted summary: \",\n",
    "        decode_sequence_seq2seq_model_with_just_lstm(\n",
    "            x_train_padded[i].reshape(1, max_text_len), encoder_model, decoder_model))\n",
    "    print(\"\")"
   ]
  },
  {
   "cell_type": "markdown",
   "metadata": {
    "id": "dY9DBZuLzdvk"
   },
   "source": [
    "For predicting unseen data pass decode_sequence function for which you want to decode."
   ]
  }
 ],
 "metadata": {
  "accelerator": "GPU",
  "colab": {
   "gpuType": "T4",
   "provenance": []
  },
  "kernelspec": {
   "display_name": "Python 3 (ipykernel)",
   "language": "python",
   "name": "python3"
  },
  "language_info": {
   "codemirror_mode": {
    "name": "ipython",
    "version": 3
   },
   "file_extension": ".py",
   "mimetype": "text/x-python",
   "name": "python",
   "nbconvert_exporter": "python",
   "pygments_lexer": "ipython3",
   "version": "3.10.9"
  }
 },
 "nbformat": 4,
 "nbformat_minor": 1
}
